{
 "cells": [
  {
   "cell_type": "code",
   "execution_count": 63,
   "metadata": {},
   "outputs": [],
   "source": [
    "from __future__ import print_function    # (at top of module)\n",
    "import warnings\n",
    "#warnings.filterwarnings('always')\n",
    "from spotipy.oauth2 import SpotifyClientCredentials\n",
    "import json\n",
    "import spotipy\n",
    "import time\n",
    "import sys\n",
    "import csv\n",
    "import pandas as pd\n",
    "import numpy as np\n",
    "import matplotlib\n",
    "import matplotlib.pyplot as plt\n",
    "% matplotlib inline\n",
    "plt.rcParams['figure.figsize'] = [10, 10]\n",
    "from matplotlib.pyplot import figure\n",
    "import math\n",
    "import seaborn as sns\n",
    "import config"
   ]
  },
  {
   "cell_type": "code",
   "execution_count": 64,
   "metadata": {},
   "outputs": [
    {
     "name": "stdout",
     "output_type": "stream",
     "text": [
      "Number of entries in original data: 570\n"
     ]
    },
    {
     "data": {
      "text/html": [
       "<div>\n",
       "<style scoped>\n",
       "    .dataframe tbody tr th:only-of-type {\n",
       "        vertical-align: middle;\n",
       "    }\n",
       "\n",
       "    .dataframe tbody tr th {\n",
       "        vertical-align: top;\n",
       "    }\n",
       "\n",
       "    .dataframe thead th {\n",
       "        text-align: right;\n",
       "    }\n",
       "</style>\n",
       "<table border=\"1\" class=\"dataframe\">\n",
       "  <thead>\n",
       "    <tr style=\"text-align: right;\">\n",
       "      <th></th>\n",
       "      <th>song_id</th>\n",
       "      <th>song_title</th>\n",
       "      <th>artist</th>\n",
       "      <th>popularity</th>\n",
       "      <th>energy</th>\n",
       "      <th>liveness</th>\n",
       "      <th>tempo</th>\n",
       "      <th>speechiness</th>\n",
       "      <th>acousticness</th>\n",
       "      <th>instrumentalness</th>\n",
       "      <th>time_signature</th>\n",
       "      <th>danceability</th>\n",
       "      <th>key</th>\n",
       "      <th>duration</th>\n",
       "      <th>loudness</th>\n",
       "      <th>valence</th>\n",
       "      <th>mode</th>\n",
       "      <th>youtube_view_count</th>\n",
       "      <th>youtube_video_title</th>\n",
       "    </tr>\n",
       "  </thead>\n",
       "  <tbody>\n",
       "    <tr>\n",
       "      <th>0</th>\n",
       "      <td>spotify:track:5ygDXis42ncn6kYG14lEVG</td>\n",
       "      <td>Baby Shark</td>\n",
       "      <td>[Pinkfong]</td>\n",
       "      <td>77</td>\n",
       "      <td>0.840</td>\n",
       "      <td>0.3410</td>\n",
       "      <td>115.062</td>\n",
       "      <td>0.2270</td>\n",
       "      <td>0.2450</td>\n",
       "      <td>0.000000</td>\n",
       "      <td>4</td>\n",
       "      <td>0.825</td>\n",
       "      <td>7</td>\n",
       "      <td>96333</td>\n",
       "      <td>-3.651</td>\n",
       "      <td>0.520</td>\n",
       "      <td>1</td>\n",
       "      <td>1956582159</td>\n",
       "      <td>Baby Shark Dance | Sing and Dance! | Animal So...</td>\n",
       "    </tr>\n",
       "    <tr>\n",
       "      <th>1</th>\n",
       "      <td>spotify:track:7fa9MBXhVfQ8P8Df9OEbD8</td>\n",
       "      <td>Girls Like You (feat. Cardi B)</td>\n",
       "      <td>[Maroon 5, Cardi B]</td>\n",
       "      <td>86</td>\n",
       "      <td>0.541</td>\n",
       "      <td>0.1300</td>\n",
       "      <td>124.959</td>\n",
       "      <td>0.0505</td>\n",
       "      <td>0.5680</td>\n",
       "      <td>0.000000</td>\n",
       "      <td>4</td>\n",
       "      <td>0.851</td>\n",
       "      <td>0</td>\n",
       "      <td>235545</td>\n",
       "      <td>-6.825</td>\n",
       "      <td>0.448</td>\n",
       "      <td>1</td>\n",
       "      <td>1300452389</td>\n",
       "      <td>Maroon 5 - Girls Like You ft. Cardi B</td>\n",
       "    </tr>\n",
       "    <tr>\n",
       "      <th>2</th>\n",
       "      <td>spotify:track:6De0lHrwBfPfrhorm9q1Xl</td>\n",
       "      <td>Me Rehúso</td>\n",
       "      <td>[Danny Ocean]</td>\n",
       "      <td>83</td>\n",
       "      <td>0.804</td>\n",
       "      <td>0.0494</td>\n",
       "      <td>104.823</td>\n",
       "      <td>0.0677</td>\n",
       "      <td>0.0231</td>\n",
       "      <td>0.000000</td>\n",
       "      <td>4</td>\n",
       "      <td>0.744</td>\n",
       "      <td>1</td>\n",
       "      <td>205715</td>\n",
       "      <td>-6.327</td>\n",
       "      <td>0.426</td>\n",
       "      <td>1</td>\n",
       "      <td>1229501096</td>\n",
       "      <td>Danny Ocean -  Me Rehúso (Official Audio)</td>\n",
       "    </tr>\n",
       "    <tr>\n",
       "      <th>3</th>\n",
       "      <td>spotify:track:1j6xOGusnyXq3l6IryKF3G</td>\n",
       "      <td>Déjala Que Vuelva (feat. Manuel Turizo)</td>\n",
       "      <td>[Piso 21, Manuel Turizo]</td>\n",
       "      <td>74</td>\n",
       "      <td>0.788</td>\n",
       "      <td>0.0753</td>\n",
       "      <td>170.019</td>\n",
       "      <td>0.0785</td>\n",
       "      <td>0.0482</td>\n",
       "      <td>0.000000</td>\n",
       "      <td>4</td>\n",
       "      <td>0.681</td>\n",
       "      <td>1</td>\n",
       "      <td>220117</td>\n",
       "      <td>-4.323</td>\n",
       "      <td>0.839</td>\n",
       "      <td>1</td>\n",
       "      <td>1216075058</td>\n",
       "      <td>Piso 21 - Déjala Que Vuelva (feat. Manuel Turi...</td>\n",
       "    </tr>\n",
       "    <tr>\n",
       "      <th>4</th>\n",
       "      <td>spotify:track:2ijef6ni2amuunRoKTlgww</td>\n",
       "      <td>Sin Pijama</td>\n",
       "      <td>[Becky G, Natti Natasha]</td>\n",
       "      <td>90</td>\n",
       "      <td>0.745</td>\n",
       "      <td>0.1040</td>\n",
       "      <td>94.014</td>\n",
       "      <td>0.0464</td>\n",
       "      <td>0.3540</td>\n",
       "      <td>0.000029</td>\n",
       "      <td>4</td>\n",
       "      <td>0.791</td>\n",
       "      <td>11</td>\n",
       "      <td>188560</td>\n",
       "      <td>-3.695</td>\n",
       "      <td>0.820</td>\n",
       "      <td>0</td>\n",
       "      <td>1071141995</td>\n",
       "      <td>Becky G Natti Natasha - Sin Pijama (Video Ofic...</td>\n",
       "    </tr>\n",
       "  </tbody>\n",
       "</table>\n",
       "</div>"
      ],
      "text/plain": [
       "                                song_id  \\\n",
       "0  spotify:track:5ygDXis42ncn6kYG14lEVG   \n",
       "1  spotify:track:7fa9MBXhVfQ8P8Df9OEbD8   \n",
       "2  spotify:track:6De0lHrwBfPfrhorm9q1Xl   \n",
       "3  spotify:track:1j6xOGusnyXq3l6IryKF3G   \n",
       "4  spotify:track:2ijef6ni2amuunRoKTlgww   \n",
       "\n",
       "                                song_title                    artist  \\\n",
       "0                               Baby Shark                [Pinkfong]   \n",
       "1           Girls Like You (feat. Cardi B)       [Maroon 5, Cardi B]   \n",
       "2                                Me Rehúso             [Danny Ocean]   \n",
       "3  Déjala Que Vuelva (feat. Manuel Turizo)  [Piso 21, Manuel Turizo]   \n",
       "4                               Sin Pijama  [Becky G, Natti Natasha]   \n",
       "\n",
       "   popularity  energy  liveness    tempo  speechiness  acousticness  \\\n",
       "0          77   0.840    0.3410  115.062       0.2270        0.2450   \n",
       "1          86   0.541    0.1300  124.959       0.0505        0.5680   \n",
       "2          83   0.804    0.0494  104.823       0.0677        0.0231   \n",
       "3          74   0.788    0.0753  170.019       0.0785        0.0482   \n",
       "4          90   0.745    0.1040   94.014       0.0464        0.3540   \n",
       "\n",
       "   instrumentalness  time_signature  danceability  key  duration  loudness  \\\n",
       "0          0.000000               4         0.825    7     96333    -3.651   \n",
       "1          0.000000               4         0.851    0    235545    -6.825   \n",
       "2          0.000000               4         0.744    1    205715    -6.327   \n",
       "3          0.000000               4         0.681    1    220117    -4.323   \n",
       "4          0.000029               4         0.791   11    188560    -3.695   \n",
       "\n",
       "   valence  mode  youtube_view_count  \\\n",
       "0    0.520     1          1956582159   \n",
       "1    0.448     1          1300452389   \n",
       "2    0.426     1          1229501096   \n",
       "3    0.839     1          1216075058   \n",
       "4    0.820     0          1071141995   \n",
       "\n",
       "                                 youtube_video_title  \n",
       "0  Baby Shark Dance | Sing and Dance! | Animal So...  \n",
       "1              Maroon 5 - Girls Like You ft. Cardi B  \n",
       "2          Danny Ocean -  Me Rehúso (Official Audio)  \n",
       "3  Piso 21 - Déjala Que Vuelva (feat. Manuel Turi...  \n",
       "4  Becky G Natti Natasha - Sin Pijama (Video Ofic...  "
      ]
     },
     "execution_count": 64,
     "metadata": {},
     "output_type": "execute_result"
    }
   ],
   "source": [
    "# Read the data from the file\n",
    "data = pd.read_csv('data_500_entries_youtube.csv')\n",
    "print(\"Number of entries in original data: \" + str(len(data.index)))\n",
    "data.head()"
   ]
  },
  {
   "cell_type": "code",
   "execution_count": 65,
   "metadata": {},
   "outputs": [
    {
     "name": "stdout",
     "output_type": "stream",
     "text": [
      "Number of entries in original data after cleaning: 570\n"
     ]
    }
   ],
   "source": [
    "if 'song_id' in data.columns:\n",
    "    data = data.drop_duplicates(subset=['song_id'], keep='first')\n",
    "else:\n",
    "    data = data.drop_duplicates(subset=['song_title'], keep='first')\n",
    "    \n",
    "print(\"Number of entries in original data after cleaning: \" + str(len(data.index)))"
   ]
  },
  {
   "cell_type": "code",
   "execution_count": 66,
   "metadata": {},
   "outputs": [
    {
     "name": "stdout",
     "output_type": "stream",
     "text": [
      "Number of entries in original data after cleaning: 570\n"
     ]
    }
   ],
   "source": [
    "data = data[data.popularity > 50]\n",
    "print(\"Number of entries in original data after cleaning: \" + str(len(data.index)))"
   ]
  },
  {
   "cell_type": "code",
   "execution_count": 67,
   "metadata": {},
   "outputs": [
    {
     "name": "stdout",
     "output_type": "stream",
     "text": [
      "Number of popular examples after thresholding :  47\n",
      "Number of not popular examples after thresholding :  523\n"
     ]
    }
   ],
   "source": [
    "from project_modules import *\n",
    "# Make a copy of the data to which we will ad labels and then remove any \n",
    "# columns that we will not need\n",
    "# This is currently a duplicate of the functionality above - could maybe only do this in one place\n",
    "\n",
    "final_data = label_data(data, 90)\n",
    "\n",
    "# Drop unnecessary columns from original data\n",
    "if 'song_id' in data.columns:\n",
    "    final_data.drop(['song_id', 'song_title', 'artist', 'popularity', 'youtube_video_title'], 1, inplace=True)\n",
    "else:\n",
    "    final_data.drop(['song_title', 'artist', 'popularity'], 1, inplace=True) \n"
   ]
  },
  {
   "cell_type": "code",
   "execution_count": 68,
   "metadata": {},
   "outputs": [
    {
     "data": {
      "text/html": [
       "<div>\n",
       "<style scoped>\n",
       "    .dataframe tbody tr th:only-of-type {\n",
       "        vertical-align: middle;\n",
       "    }\n",
       "\n",
       "    .dataframe tbody tr th {\n",
       "        vertical-align: top;\n",
       "    }\n",
       "\n",
       "    .dataframe thead th {\n",
       "        text-align: right;\n",
       "    }\n",
       "</style>\n",
       "<table border=\"1\" class=\"dataframe\">\n",
       "  <thead>\n",
       "    <tr style=\"text-align: right;\">\n",
       "      <th></th>\n",
       "      <th>energy</th>\n",
       "      <th>liveness</th>\n",
       "      <th>tempo</th>\n",
       "      <th>speechiness</th>\n",
       "      <th>acousticness</th>\n",
       "      <th>instrumentalness</th>\n",
       "      <th>time_signature</th>\n",
       "      <th>danceability</th>\n",
       "      <th>key</th>\n",
       "      <th>duration</th>\n",
       "      <th>loudness</th>\n",
       "      <th>valence</th>\n",
       "      <th>mode</th>\n",
       "      <th>youtube_view_count</th>\n",
       "      <th>is_popular</th>\n",
       "    </tr>\n",
       "  </thead>\n",
       "  <tbody>\n",
       "    <tr>\n",
       "      <th>0</th>\n",
       "      <td>0.838293</td>\n",
       "      <td>0.331118</td>\n",
       "      <td>0.360693</td>\n",
       "      <td>0.399286</td>\n",
       "      <td>0.247690</td>\n",
       "      <td>0.000000</td>\n",
       "      <td>0.75</td>\n",
       "      <td>0.789030</td>\n",
       "      <td>0.636364</td>\n",
       "      <td>0.016514</td>\n",
       "      <td>0.807462</td>\n",
       "      <td>0.522258</td>\n",
       "      <td>1.0</td>\n",
       "      <td>1.000000</td>\n",
       "      <td>0</td>\n",
       "    </tr>\n",
       "    <tr>\n",
       "      <th>1</th>\n",
       "      <td>0.502527</td>\n",
       "      <td>0.111965</td>\n",
       "      <td>0.431906</td>\n",
       "      <td>0.049366</td>\n",
       "      <td>0.574298</td>\n",
       "      <td>0.000000</td>\n",
       "      <td>0.75</td>\n",
       "      <td>0.825598</td>\n",
       "      <td>0.000000</td>\n",
       "      <td>0.442256</td>\n",
       "      <td>0.594084</td>\n",
       "      <td>0.444083</td>\n",
       "      <td>1.0</td>\n",
       "      <td>0.664655</td>\n",
       "      <td>0</td>\n",
       "    </tr>\n",
       "    <tr>\n",
       "      <th>2</th>\n",
       "      <td>0.797866</td>\n",
       "      <td>0.028251</td>\n",
       "      <td>0.287019</td>\n",
       "      <td>0.083466</td>\n",
       "      <td>0.023312</td>\n",
       "      <td>0.000000</td>\n",
       "      <td>0.75</td>\n",
       "      <td>0.675105</td>\n",
       "      <td>0.090909</td>\n",
       "      <td>0.351029</td>\n",
       "      <td>0.627563</td>\n",
       "      <td>0.420195</td>\n",
       "      <td>1.0</td>\n",
       "      <td>0.628392</td>\n",
       "      <td>0</td>\n",
       "    </tr>\n",
       "    <tr>\n",
       "      <th>3</th>\n",
       "      <td>0.779899</td>\n",
       "      <td>0.055152</td>\n",
       "      <td>0.756132</td>\n",
       "      <td>0.104877</td>\n",
       "      <td>0.048692</td>\n",
       "      <td>0.000000</td>\n",
       "      <td>0.75</td>\n",
       "      <td>0.586498</td>\n",
       "      <td>0.090909</td>\n",
       "      <td>0.395074</td>\n",
       "      <td>0.762286</td>\n",
       "      <td>0.868621</td>\n",
       "      <td>1.0</td>\n",
       "      <td>0.621530</td>\n",
       "      <td>0</td>\n",
       "    </tr>\n",
       "    <tr>\n",
       "      <th>4</th>\n",
       "      <td>0.731611</td>\n",
       "      <td>0.084961</td>\n",
       "      <td>0.209243</td>\n",
       "      <td>0.041237</td>\n",
       "      <td>0.357908</td>\n",
       "      <td>0.000032</td>\n",
       "      <td>0.75</td>\n",
       "      <td>0.741210</td>\n",
       "      <td>1.000000</td>\n",
       "      <td>0.298565</td>\n",
       "      <td>0.804504</td>\n",
       "      <td>0.847991</td>\n",
       "      <td>0.0</td>\n",
       "      <td>0.547456</td>\n",
       "      <td>0</td>\n",
       "    </tr>\n",
       "  </tbody>\n",
       "</table>\n",
       "</div>"
      ],
      "text/plain": [
       "     energy  liveness     tempo  speechiness  acousticness  instrumentalness  \\\n",
       "0  0.838293  0.331118  0.360693     0.399286      0.247690          0.000000   \n",
       "1  0.502527  0.111965  0.431906     0.049366      0.574298          0.000000   \n",
       "2  0.797866  0.028251  0.287019     0.083466      0.023312          0.000000   \n",
       "3  0.779899  0.055152  0.756132     0.104877      0.048692          0.000000   \n",
       "4  0.731611  0.084961  0.209243     0.041237      0.357908          0.000032   \n",
       "\n",
       "   time_signature  danceability       key  duration  loudness   valence  mode  \\\n",
       "0            0.75      0.789030  0.636364  0.016514  0.807462  0.522258   1.0   \n",
       "1            0.75      0.825598  0.000000  0.442256  0.594084  0.444083   1.0   \n",
       "2            0.75      0.675105  0.090909  0.351029  0.627563  0.420195   1.0   \n",
       "3            0.75      0.586498  0.090909  0.395074  0.762286  0.868621   1.0   \n",
       "4            0.75      0.741210  1.000000  0.298565  0.804504  0.847991   0.0   \n",
       "\n",
       "   youtube_view_count  is_popular  \n",
       "0            1.000000           0  \n",
       "1            0.664655           0  \n",
       "2            0.628392           0  \n",
       "3            0.621530           0  \n",
       "4            0.547456           0  "
      ]
     },
     "execution_count": 68,
     "metadata": {},
     "output_type": "execute_result"
    }
   ],
   "source": [
    "from sklearn.preprocessing import scale, MinMaxScaler\n",
    "\n",
    "COLUMNS_TO_SCALE = [\"energy\", \"liveness\", \"tempo\", \n",
    "                    \"speechiness\", \"acousticness\", \"instrumentalness\", \n",
    "                    \"time_signature\", \"danceability\", \"key\", \n",
    "                    \"duration\", \"loudness\", \"valence\", \"mode\", \"youtube_view_count\"]\n",
    "# Keep data in a temp variable for testing\n",
    "scaled_data = scale_data_normalize(final_data, COLUMNS_TO_SCALE)\n",
    "\n",
    "# Copy data back\n",
    "final_data = scaled_data.copy()\n",
    "\n",
    "#Just to check that everything is fine\n",
    "final_data.head()"
   ]
  },
  {
   "cell_type": "code",
   "execution_count": 69,
   "metadata": {},
   "outputs": [
    {
     "name": "stdout",
     "output_type": "stream",
     "text": [
      "Number of entries in actual data: 570\n",
      "Number of entries in label data: 570\n"
     ]
    }
   ],
   "source": [
    "# X will be our examples and y will be our labels\n",
    "X = final_data.drop('is_popular', axis=1)\n",
    "y = final_data['is_popular']\n",
    "# Sanity checks\n",
    "print(\"Number of entries in actual data: \" + str(len(X.index)))\n",
    "print(\"Number of entries in label data: \" + str(len(y.index)))"
   ]
  },
  {
   "cell_type": "code",
   "execution_count": 70,
   "metadata": {},
   "outputs": [],
   "source": [
    "# We drop this here because of high correlation with the our popularity metric\n",
    "# - popular songs on Spotify also have a high youtube view count\n",
    "X = X.drop('youtube_view_count', axis=1)"
   ]
  },
  {
   "cell_type": "code",
   "execution_count": 71,
   "metadata": {
    "scrolled": true
   },
   "outputs": [
    {
     "data": {
      "text/html": [
       "<div>\n",
       "<style scoped>\n",
       "    .dataframe tbody tr th:only-of-type {\n",
       "        vertical-align: middle;\n",
       "    }\n",
       "\n",
       "    .dataframe tbody tr th {\n",
       "        vertical-align: top;\n",
       "    }\n",
       "\n",
       "    .dataframe thead th {\n",
       "        text-align: right;\n",
       "    }\n",
       "</style>\n",
       "<table border=\"1\" class=\"dataframe\">\n",
       "  <thead>\n",
       "    <tr style=\"text-align: right;\">\n",
       "      <th></th>\n",
       "      <th>energy</th>\n",
       "      <th>liveness</th>\n",
       "      <th>tempo</th>\n",
       "      <th>speechiness</th>\n",
       "      <th>acousticness</th>\n",
       "      <th>instrumentalness</th>\n",
       "      <th>time_signature</th>\n",
       "      <th>danceability</th>\n",
       "      <th>key</th>\n",
       "      <th>duration</th>\n",
       "      <th>loudness</th>\n",
       "      <th>valence</th>\n",
       "      <th>mode</th>\n",
       "    </tr>\n",
       "  </thead>\n",
       "  <tbody>\n",
       "    <tr>\n",
       "      <th>0</th>\n",
       "      <td>0.838293</td>\n",
       "      <td>0.331118</td>\n",
       "      <td>0.360693</td>\n",
       "      <td>0.399286</td>\n",
       "      <td>0.247690</td>\n",
       "      <td>0.000000</td>\n",
       "      <td>0.75</td>\n",
       "      <td>0.789030</td>\n",
       "      <td>0.636364</td>\n",
       "      <td>0.016514</td>\n",
       "      <td>0.807462</td>\n",
       "      <td>0.522258</td>\n",
       "      <td>1.0</td>\n",
       "    </tr>\n",
       "    <tr>\n",
       "      <th>1</th>\n",
       "      <td>0.502527</td>\n",
       "      <td>0.111965</td>\n",
       "      <td>0.431906</td>\n",
       "      <td>0.049366</td>\n",
       "      <td>0.574298</td>\n",
       "      <td>0.000000</td>\n",
       "      <td>0.75</td>\n",
       "      <td>0.825598</td>\n",
       "      <td>0.000000</td>\n",
       "      <td>0.442256</td>\n",
       "      <td>0.594084</td>\n",
       "      <td>0.444083</td>\n",
       "      <td>1.0</td>\n",
       "    </tr>\n",
       "    <tr>\n",
       "      <th>2</th>\n",
       "      <td>0.797866</td>\n",
       "      <td>0.028251</td>\n",
       "      <td>0.287019</td>\n",
       "      <td>0.083466</td>\n",
       "      <td>0.023312</td>\n",
       "      <td>0.000000</td>\n",
       "      <td>0.75</td>\n",
       "      <td>0.675105</td>\n",
       "      <td>0.090909</td>\n",
       "      <td>0.351029</td>\n",
       "      <td>0.627563</td>\n",
       "      <td>0.420195</td>\n",
       "      <td>1.0</td>\n",
       "    </tr>\n",
       "    <tr>\n",
       "      <th>3</th>\n",
       "      <td>0.779899</td>\n",
       "      <td>0.055152</td>\n",
       "      <td>0.756132</td>\n",
       "      <td>0.104877</td>\n",
       "      <td>0.048692</td>\n",
       "      <td>0.000000</td>\n",
       "      <td>0.75</td>\n",
       "      <td>0.586498</td>\n",
       "      <td>0.090909</td>\n",
       "      <td>0.395074</td>\n",
       "      <td>0.762286</td>\n",
       "      <td>0.868621</td>\n",
       "      <td>1.0</td>\n",
       "    </tr>\n",
       "    <tr>\n",
       "      <th>4</th>\n",
       "      <td>0.731611</td>\n",
       "      <td>0.084961</td>\n",
       "      <td>0.209243</td>\n",
       "      <td>0.041237</td>\n",
       "      <td>0.357908</td>\n",
       "      <td>0.000032</td>\n",
       "      <td>0.75</td>\n",
       "      <td>0.741210</td>\n",
       "      <td>1.000000</td>\n",
       "      <td>0.298565</td>\n",
       "      <td>0.804504</td>\n",
       "      <td>0.847991</td>\n",
       "      <td>0.0</td>\n",
       "    </tr>\n",
       "  </tbody>\n",
       "</table>\n",
       "</div>"
      ],
      "text/plain": [
       "     energy  liveness     tempo  speechiness  acousticness  instrumentalness  \\\n",
       "0  0.838293  0.331118  0.360693     0.399286      0.247690          0.000000   \n",
       "1  0.502527  0.111965  0.431906     0.049366      0.574298          0.000000   \n",
       "2  0.797866  0.028251  0.287019     0.083466      0.023312          0.000000   \n",
       "3  0.779899  0.055152  0.756132     0.104877      0.048692          0.000000   \n",
       "4  0.731611  0.084961  0.209243     0.041237      0.357908          0.000032   \n",
       "\n",
       "   time_signature  danceability       key  duration  loudness   valence  mode  \n",
       "0            0.75      0.789030  0.636364  0.016514  0.807462  0.522258   1.0  \n",
       "1            0.75      0.825598  0.000000  0.442256  0.594084  0.444083   1.0  \n",
       "2            0.75      0.675105  0.090909  0.351029  0.627563  0.420195   1.0  \n",
       "3            0.75      0.586498  0.090909  0.395074  0.762286  0.868621   1.0  \n",
       "4            0.75      0.741210  1.000000  0.298565  0.804504  0.847991   0.0  "
      ]
     },
     "execution_count": 71,
     "metadata": {},
     "output_type": "execute_result"
    }
   ],
   "source": [
    "X.head()"
   ]
  },
  {
   "cell_type": "markdown",
   "metadata": {},
   "source": [
    "# Wrapper methods"
   ]
  },
  {
   "cell_type": "markdown",
   "metadata": {},
   "source": [
    "### Exhaustive search"
   ]
  },
  {
   "cell_type": "code",
   "execution_count": 10,
   "metadata": {},
   "outputs": [
    {
     "name": "stdout",
     "output_type": "stream",
     "text": [
      "8191\n"
     ]
    }
   ],
   "source": [
    "import itertools\n",
    "columns = [\"energy\", \"liveness\", \"tempo\", \"speechiness\", \"acousticness\", \"instrumentalness\", \"time_signature\", \"danceability\",\n",
    "          \"key\", \"duration\", \"loudness\", \"valence\", \"mode\"]\n",
    "allSubsets = []\n",
    "total_no_subsets = 0\n",
    "for m in range(1, len(columns) + 1, 1):\n",
    "    subsets_with_m_elem = list(itertools.combinations(columns, m))\n",
    "    total_no_subsets += len(subsets_with_m_elem)\n",
    "    allSubsets.append(subsets_with_m_elem)\n",
    "print(total_no_subsets)"
   ]
  },
  {
   "cell_type": "code",
   "execution_count": 12,
   "metadata": {},
   "outputs": [
    {
     "name": "stdout",
     "output_type": "stream",
     "text": [
      "Number of iterations:  8191\n"
     ]
    }
   ],
   "source": [
    "from sklearn.linear_model import LogisticRegression\n",
    "from sklearn import svm\n",
    "from sklearn.model_selection import StratifiedKFold\n",
    "from sklearn.model_selection import cross_val_score\n",
    "\n",
    "steps_taken = 0\n",
    "scores_list = []\n",
    "\n",
    "# Loop thorugh all the different subsets of 1,2,3, ..., (#features) elements\n",
    "for n_elem_subsets in range(0, len(columns), 1):\n",
    "    len_elem_subs = len(allSubsets[n_elem_subsets])\n",
    "    best_score = 0\n",
    "    feature_set = []\n",
    "    # Loop through all the subsets of n_elem_subsets elements\n",
    "    for cur_comb in range(0, len_elem_subs, 1):\n",
    "        \n",
    "        # Get the data with the current subset of features\n",
    "        cur_data = X[list(allSubsets[n_elem_subsets][cur_comb])]\n",
    "        \n",
    "        # Transform to np array for faster computation\n",
    "        cur_data_np = np.array(cur_data)\n",
    "        \n",
    "        # Counter of number of interations\n",
    "        steps_taken += 1\n",
    "        \n",
    "        # Instantiate model\n",
    "        # model = LogisticRegression(class_weight='balanced',random_state=4)\n",
    "        model = svm.SVC(probability=False, gamma='scale', random_state=3, class_weight='balanced')\n",
    "        \n",
    "        # Instantiate cross validation strategy\n",
    "        cv = StratifiedKFold(n_splits=10, random_state=3)\n",
    "        \n",
    "        # Compute the cross valdation scores\n",
    "        scores = cross_val_score(model, cur_data_np, y, cv=cv, scoring='roc_auc')\n",
    "        \n",
    "        mean_score = scores.mean()\n",
    "        \n",
    "        # For brevity, we only keep the best feature subset of one size\n",
    "        # Alternatively, we could keep the scores for all the different combinations\n",
    "        if mean_score > best_score:\n",
    "            best_score = mean_score\n",
    "            feature_set = list(allSubsets[n_elem_subsets][cur_comb])\n",
    "    #Keep the best score in a list    \n",
    "    scores_list.append([feature_set, best_score])\n",
    "\n",
    "print(\"Number of iterations: \", steps_taken)"
   ]
  },
  {
   "cell_type": "code",
   "execution_count": 14,
   "metadata": {},
   "outputs": [
    {
     "name": "stdout",
     "output_type": "stream",
     "text": [
      "[['valence'], 0.65573476052249635]\n",
      "[['liveness', 'valence'], 0.67391872278664733]\n",
      "[['liveness', 'tempo', 'valence'], 0.69570210449927428]\n",
      "[['liveness', 'tempo', 'loudness', 'valence'], 0.70494920174165454]\n",
      "[['energy', 'liveness', 'tempo', 'loudness', 'valence'], 0.70933599419448479]\n",
      "[['energy', 'liveness', 'tempo', 'time_signature', 'loudness', 'valence'], 0.70625907111756159]\n",
      "[['energy', 'liveness', 'tempo', 'acousticness', 'time_signature', 'loudness', 'valence'], 0.69929970972423805]\n",
      "[['energy', 'liveness', 'tempo', 'acousticness', 'instrumentalness', 'time_signature', 'loudness', 'valence'], 0.68986211901306249]\n",
      "[['energy', 'liveness', 'tempo', 'acousticness', 'time_signature', 'danceability', 'loudness', 'valence', 'mode'], 0.68443940493468813]\n",
      "[['energy', 'liveness', 'tempo', 'acousticness', 'time_signature', 'danceability', 'duration', 'loudness', 'valence', 'mode'], 0.68159107402031938]\n",
      "[['energy', 'liveness', 'tempo', 'acousticness', 'instrumentalness', 'time_signature', 'danceability', 'duration', 'loudness', 'valence', 'mode'], 0.67517053701015972]\n",
      "[['energy', 'liveness', 'tempo', 'speechiness', 'acousticness', 'instrumentalness', 'time_signature', 'danceability', 'duration', 'loudness', 'valence', 'mode'], 0.66122460087082735]\n",
      "[['energy', 'liveness', 'tempo', 'speechiness', 'acousticness', 'instrumentalness', 'time_signature', 'danceability', 'key', 'duration', 'loudness', 'valence', 'mode'], 0.63520137880986938]\n"
     ]
    }
   ],
   "source": [
    "# Print feature sets with best scores\n",
    "for cur_list in scores_list:\n",
    "    print(cur_list)"
   ]
  },
  {
   "cell_type": "markdown",
   "metadata": {},
   "source": [
    "# Filter methods"
   ]
  },
  {
   "cell_type": "markdown",
   "metadata": {},
   "source": [
    "### SelectKBest"
   ]
  },
  {
   "cell_type": "code",
   "execution_count": 61,
   "metadata": {},
   "outputs": [
    {
     "name": "stdout",
     "output_type": "stream",
     "text": [
      "['tempo', 'acousticness', 'instrumentalness', 'key', 'valence', 'mode']\n"
     ]
    }
   ],
   "source": [
    "from sklearn.feature_selection import SelectKBest\n",
    "from sklearn.feature_selection import chi2\n",
    "from sklearn.model_selection import train_test_split\n",
    "\n",
    "X_train, X_test, y_train, y_test = train_test_split(X, y, test_size=0.5, random_state=5)\n",
    "\n",
    "sel = SelectKBest(chi2, k = 6)\n",
    "sel.fit(X_train, y_train)\n",
    "\n",
    "selected = sel.transform(X_train)\n",
    "#print(selected.shape)\n",
    "#print(X_train.shape)\n",
    "\n",
    "mask = sel.get_support() #list of booleans\n",
    "new_features = [] # The list of your K best features\n",
    "\n",
    "for bool, feature in zip(mask, columns):\n",
    "    if bool:\n",
    "        new_features.append(feature)\n",
    "print(new_features)"
   ]
  },
  {
   "cell_type": "markdown",
   "metadata": {},
   "source": [
    "### Pearson correlation"
   ]
  },
  {
   "cell_type": "code",
   "execution_count": 54,
   "metadata": {},
   "outputs": [
    {
     "name": "stdout",
     "output_type": "stream",
     "text": [
      "(-0.14213373094378604, 0.00066591728398211357)\n"
     ]
    }
   ],
   "source": [
    "import scipy\n",
    "from scipy.stats import pearsonr\n",
    "\n",
    "print(pearsonr(X['valence'], y))"
   ]
  },
  {
   "cell_type": "markdown",
   "metadata": {},
   "source": [
    "### Mutual information"
   ]
  },
  {
   "cell_type": "code",
   "execution_count": 81,
   "metadata": {},
   "outputs": [
    {
     "name": "stdout",
     "output_type": "stream",
     "text": [
      "danceability 0.0\n",
      "key 0.0\n",
      "loudness 0.0\n",
      "time_signature 0.0\n",
      "instrumentalness 0.00066222406065\n",
      "duration 0.00394051170442\n",
      "acousticness 0.00625966347405\n",
      "valence 0.00993321327831\n",
      "energy 0.0110091099907\n",
      "liveness 0.011514378832\n",
      "mode 0.016849549401\n",
      "speechiness 0.0173146860389\n",
      "tempo 0.023748408022\n"
     ]
    }
   ],
   "source": [
    "from sklearn.feature_selection import mutual_info_classif\n",
    "\n",
    "feature_scores = mutual_info_classif(X_train, y_train)\n",
    "\n",
    "for score, fname in sorted(zip(feature_scores, columns)):\n",
    "    print(fname, score)"
   ]
  },
  {
   "cell_type": "markdown",
   "metadata": {},
   "source": [
    "### Joint mutual information"
   ]
  },
  {
   "cell_type": "code",
   "execution_count": 93,
   "metadata": {},
   "outputs": [
    {
     "name": "stdout",
     "output_type": "stream",
     "text": [
      "JMI for energy is 0.126908126194\n",
      "JMI for liveness is 0.210939473696\n",
      "JMI for tempo is 0.511648286241\n",
      "JMI for speechiness is 0.679587761023\n",
      "JMI for acousticness is 0.766574727049\n",
      "JMI for instrumentalness is 0.850313356638\n",
      "JMI for time_signature is 0.950601973209\n",
      "JMI for danceability is 0.950601973209\n",
      "JMI for key is 0.954111885769\n",
      "JMI for duration is 1.00139802622\n",
      "JMI for loudness is 1.00139802622\n",
      "JMI for valence is 1.12912639673\n",
      "JMI for mode is 1.19543325016\n"
     ]
    }
   ],
   "source": [
    "columns = [\"energy\", \"liveness\", \"tempo\", \"speechiness\", \"acousticness\", \"instrumentalness\", \"time_signature\", \"danceability\",\n",
    "          \"key\", \"duration\", \"loudness\", \"valence\", \"mode\"]\n",
    "jmi = 0\n",
    "for col in columns:\n",
    "    for next_col in columns:\n",
    "        if col != next_col:\n",
    "            jmi += mutual_info_classif(X_train[[col, next_col]], y_train)[0]\n",
    "            #print(col, next_col)\n",
    "    print(\"JMI for {} is {}\".format(col, jmi))"
   ]
  },
  {
   "cell_type": "markdown",
   "metadata": {},
   "source": [
    "### ANOVA"
   ]
  },
  {
   "cell_type": "code",
   "execution_count": 75,
   "metadata": {},
   "outputs": [
    {
     "name": "stdout",
     "output_type": "stream",
     "text": [
      "loudness 0.00568406128276\n",
      "speechiness 0.0270260029669\n",
      "time_signature 0.0319876660937\n",
      "duration 0.185910425031\n",
      "liveness 0.18892589418\n",
      "mode 0.280688060472\n",
      "instrumentalness 0.499371675555\n",
      "key 0.824257236616\n",
      "danceability 1.7323999922\n",
      "acousticness 2.37542137751\n",
      "energy 2.55239718842\n",
      "tempo 2.90091388799\n",
      "valence 9.47236752793\n"
     ]
    }
   ],
   "source": [
    "from sklearn.feature_selection import f_classif\n",
    "\n",
    "feature_scores = f_classif(X_train, y_train)[0]\n",
    "\n",
    "for score, fname in sorted(zip(feature_scores, columns)):\n",
    "    print(fname, score)"
   ]
  },
  {
   "cell_type": "markdown",
   "metadata": {},
   "source": [
    "# Embedded methods"
   ]
  },
  {
   "cell_type": "markdown",
   "metadata": {},
   "source": [
    "### LASSO regression"
   ]
  },
  {
   "cell_type": "code",
   "execution_count": 137,
   "metadata": {},
   "outputs": [
    {
     "name": "stdout",
     "output_type": "stream",
     "text": [
      "training score: 0.0534300953141\n",
      "test score:  -0.035451480573\n",
      "number of features used:  4\n",
      "Alpha(amount of penalization) chosen by CV:  0.00337342158855\n",
      "['tempo', 'acousticness', 'danceability', 'valence']\n"
     ]
    }
   ],
   "source": [
    "from sklearn.linear_model import Lasso\n",
    "from sklearn.linear_model import LinearRegression\n",
    "from sklearn.linear_model import LassoCV\n",
    "lasso = LassoCV(cv=StratifiedKFold(n_splits=10, random_state=3), random_state=3)\n",
    "lasso.fit(X_train,y_train)\n",
    "train_score=lasso.score(X_train,y_train)\n",
    "test_score=lasso.score(X_test,y_test)\n",
    "coeff_used = np.sum(lasso.coef_!=0)\n",
    "\n",
    "print(\"training score:\", train_score)\n",
    "print(\"test score: \", test_score)\n",
    "print(\"number of features used: \", coeff_used)\n",
    "\n",
    "#print(lasso.coef_)\n",
    "\n",
    "ind = 0\n",
    "sel_f = []\n",
    "for coef in lasso.coef_:\n",
    "    if coef != 0:\n",
    "        sel_f.append(columns[ind]) \n",
    "    ind += 1\n",
    "print(\"Alpha(amount of penalization) chosen by CV: \", lasso.alpha_)\n",
    "print(sel_f)"
   ]
  },
  {
   "cell_type": "code",
   "execution_count": 143,
   "metadata": {},
   "outputs": [
    {
     "name": "stdout",
     "output_type": "stream",
     "text": [
      "training score: 0.694736842105\n",
      "test score:  0.663157894737\n",
      "number of features used:  9\n",
      "[[-1.11084244  0.43384907 -1.24146497  0.         -0.7671785   0.          0.\n",
      "   2.09339274 -0.02201686  0.          2.19290097 -3.60676226  0.05691074]]\n",
      "['energy', 'liveness', 'tempo', 'acousticness', 'danceability', 'key', 'loudness', 'valence', 'mode']\n"
     ]
    }
   ],
   "source": [
    "from sklearn.linear_model import Lasso\n",
    "from sklearn.linear_model import LinearRegression\n",
    "from sklearn.linear_model import LassoCV\n",
    "from sklearn.linear_model import LogisticRegression\n",
    "loglasso = LogisticRegression(penalty='l1', class_weight='balanced', random_state=3)\n",
    "loglasso.fit(X_train,y_train)\n",
    "train_score=loglasso.score(X_train,y_train)\n",
    "test_score=loglasso.score(X_test,y_test)\n",
    "coeff_used = np.sum(loglasso.coef_!=0)\n",
    "\n",
    "print(\"training score:\", train_score)\n",
    "print(\"test score: \", test_score)\n",
    "print(\"number of features used: \", coeff_used)\n",
    "\n",
    "print(loglasso.coef_)\n",
    "\n",
    "ind = 0\n",
    "sel_f = []\n",
    "for coef in loglasso.coef_[0]:\n",
    "    if coef != 0:\n",
    "        sel_f.append(columns[ind]) \n",
    "    ind += 1\n",
    "print(sel_f)"
   ]
  },
  {
   "cell_type": "code",
   "execution_count": null,
   "metadata": {},
   "outputs": [],
   "source": []
  }
 ],
 "metadata": {
  "kernelspec": {
   "display_name": "Python 2",
   "language": "python",
   "name": "python2"
  },
  "language_info": {
   "codemirror_mode": {
    "name": "ipython",
    "version": 2
   },
   "file_extension": ".py",
   "mimetype": "text/x-python",
   "name": "python",
   "nbconvert_exporter": "python",
   "pygments_lexer": "ipython2",
   "version": "2.7.11"
  }
 },
 "nbformat": 4,
 "nbformat_minor": 2
}
