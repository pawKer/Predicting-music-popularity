{
 "cells": [
  {
   "cell_type": "markdown",
   "metadata": {},
   "source": [
    "<h1>Imports and API setups<h1>"
   ]
  },
  {
   "cell_type": "code",
   "execution_count": 264,
   "metadata": {
    "scrolled": false
   },
   "outputs": [],
   "source": [
    "from __future__ import print_function    # (at top of module)\n",
    "import warnings\n",
    "warnings.filterwarnings('always')\n",
    "from spotipy.oauth2 import SpotifyClientCredentials\n",
    "import json\n",
    "import spotipy\n",
    "import time\n",
    "import sys\n",
    "import csv\n",
    "import pandas as pd\n",
    "import numpy as np\n",
    "import matplotlib\n",
    "import matplotlib.pyplot as plt\n",
    "% matplotlib inline\n",
    "import math\n",
    "import seaborn as sns\n",
    "import config\n",
    "\n",
    "\n",
    "# Spotify API Setup\n",
    "client_credentials_manager = SpotifyClientCredentials(config.client_id, config.client_secret)\n",
    "sp = spotipy.Spotify(client_credentials_manager=client_credentials_manager)\n",
    "\n",
    "# Enables verbose requests tracing\n",
    "sp.trace=False"
   ]
  },
  {
   "cell_type": "markdown",
   "metadata": {},
   "source": [
    "## Read data from CSV"
   ]
  },
  {
   "cell_type": "code",
   "execution_count": 265,
   "metadata": {},
   "outputs": [
    {
     "name": "stdout",
     "output_type": "stream",
     "text": [
      "Number of entries in original data: 441\n"
     ]
    }
   ],
   "source": [
    "# Read the data from the file\n",
    "data = pd.read_csv('file_path_big.csv')\n",
    "data.head()\n",
    "print(\"Number of entries in original data: \" + str(len(data.index)))"
   ]
  },
  {
   "cell_type": "markdown",
   "metadata": {},
   "source": [
    "## Clean the data"
   ]
  },
  {
   "cell_type": "code",
   "execution_count": 266,
   "metadata": {},
   "outputs": [
    {
     "name": "stdout",
     "output_type": "stream",
     "text": [
      "Number of entries in original data after cleaning: 441\n"
     ]
    }
   ],
   "source": [
    "data = data.drop_duplicates(subset=['Song Title', 'Artist'], keep='first')\n",
    "print(\"Number of entries in original data after cleaning: \" + str(len(data.index)))"
   ]
  },
  {
   "cell_type": "markdown",
   "metadata": {},
   "source": [
    "## Analyzing the data"
   ]
  },
  {
   "cell_type": "code",
   "execution_count": null,
   "metadata": {},
   "outputs": [],
   "source": [
    "sns.countplot(x=\"Mode\", data=data)"
   ]
  },
  {
   "cell_type": "code",
   "execution_count": null,
   "metadata": {},
   "outputs": [],
   "source": [
    "sns.countplot(x=\"Time Signature\", data=data)"
   ]
  },
  {
   "cell_type": "code",
   "execution_count": null,
   "metadata": {},
   "outputs": [],
   "source": [
    "sns.countplot(x=\"Key\", data=data)"
   ]
  },
  {
   "cell_type": "code",
   "execution_count": null,
   "metadata": {},
   "outputs": [],
   "source": [
    "data['Popularity'].plot.hist(bins=30, rwidth=10,figsize=(10,8))\n",
    "plt.xlabel('Popularity')\n",
    "plt.title(\"Popularity histogram\")\n",
    "plt.grid(alpha=0.3)"
   ]
  },
  {
   "cell_type": "code",
   "execution_count": null,
   "metadata": {},
   "outputs": [],
   "source": [
    "sns.set_style('darkgrid')\n",
    "sns.distplot(data[\"Popularity\"])"
   ]
  },
  {
   "cell_type": "markdown",
   "metadata": {},
   "source": [
    "## Label the data according to threshold for plotting"
   ]
  },
  {
   "cell_type": "code",
   "execution_count": 9,
   "metadata": {},
   "outputs": [],
   "source": [
    "# Label data according to a threshold for nicer plotting\n",
    "labeled_data = data.copy()\n",
    "threshold = 70\n",
    "labels = []\n",
    "\n",
    "# The threshold is on Popularity, see above for description of that feature\n",
    "for item in data['Popularity']:\n",
    "    if item > threshold:\n",
    "        labels.append(1)\n",
    "    else:\n",
    "        labels.append(0)\n",
    "labeled_data['Is_Popular'] = labels"
   ]
  },
  {
   "cell_type": "code",
   "execution_count": null,
   "metadata": {},
   "outputs": [],
   "source": [
    "sns.countplot(x=\"Is_Popular\", hue = \"Mode\", data=labeled_data)"
   ]
  },
  {
   "cell_type": "code",
   "execution_count": null,
   "metadata": {},
   "outputs": [],
   "source": [
    "sns.scatterplot(x=\"Popularity\", y = \"Duration in ms\" , hue = \"Is_Popular\", data=labeled_data).set_title(\"Duration and popularity\")"
   ]
  },
  {
   "cell_type": "code",
   "execution_count": null,
   "metadata": {},
   "outputs": [],
   "source": [
    "sns.scatterplot(x=\"Popularity\", y = \"Instrumentalness\" , hue = \"Is_Popular\", data=labeled_data).set_title(\"Instrumentalness and popularity\")"
   ]
  },
  {
   "cell_type": "code",
   "execution_count": null,
   "metadata": {},
   "outputs": [],
   "source": [
    "sns.scatterplot(x=\"Popularity\", y = \"Loudness\" , hue = \"Is_Popular\", data=labeled_data).set_title(\"Loudness and popularity\")"
   ]
  },
  {
   "cell_type": "markdown",
   "metadata": {},
   "source": [
    "## Data wrangling"
   ]
  },
  {
   "cell_type": "code",
   "execution_count": 267,
   "metadata": {},
   "outputs": [
    {
     "data": {
      "text/plain": [
       "Song Title          0\n",
       "Artist              0\n",
       "Popularity          0\n",
       "Energy              0\n",
       "Liveness            0\n",
       "Tempo               0\n",
       "Speechiness         0\n",
       "Acousticness        0\n",
       "Instrumentalness    0\n",
       "Time Signature      0\n",
       "Danceability        0\n",
       "Key                 0\n",
       "Duration in ms      0\n",
       "Loudness            0\n",
       "Valence             0\n",
       "Mode                0\n",
       "dtype: int64"
      ]
     },
     "execution_count": 267,
     "metadata": {},
     "output_type": "execute_result"
    }
   ],
   "source": [
    "# Check if we have any null items in our data\n",
    "data.isnull().sum()"
   ]
  },
  {
   "cell_type": "markdown",
   "metadata": {},
   "source": [
    "# START HERE"
   ]
  },
  {
   "cell_type": "markdown",
   "metadata": {},
   "source": [
    "## Setting popularity threshold and adding lables to data"
   ]
  },
  {
   "cell_type": "code",
   "execution_count": 269,
   "metadata": {},
   "outputs": [
    {
     "name": "stdout",
     "output_type": "stream",
     "text": [
      "Number of popular examples after thresholding :  59\n",
      "Number of not popular examples after thresholding :  382\n"
     ]
    }
   ],
   "source": [
    "# Make a copy of the data to which we will ad labels and then remove any \n",
    "# columns that we will not need\n",
    "# This is currently a duplicate of the functionality above - could maybe only do this in one place\n",
    "\n",
    "final_data = data.copy()\n",
    "threshold = 90\n",
    "labels = []\n",
    "labeled_popular = 0\n",
    "labeled_notpopular = 0\n",
    "for item in data['Popularity']:\n",
    "    if item > threshold:\n",
    "        labels.append(1)\n",
    "        labeled_popular = labeled_popular + 1\n",
    "    else:\n",
    "        labels.append(0)\n",
    "        labeled_notpopular = labeled_notpopular + 1\n",
    "final_data['Is_Popular'] = labels\n",
    "\n",
    "print('Number of popular examples after thresholding : ', labeled_popular)\n",
    "print('Number of not popular examples after thresholding : ', labeled_notpopular)\n",
    "\n",
    "# Drop unnecessary columns from original data\n",
    "final_data.drop(['Song Title', 'Artist', 'Popularity'], 1, inplace=True)"
   ]
  },
  {
   "cell_type": "markdown",
   "metadata": {},
   "source": [
    "## Scale the data"
   ]
  },
  {
   "cell_type": "code",
   "execution_count": 270,
   "metadata": {},
   "outputs": [
    {
     "name": "stderr",
     "output_type": "stream",
     "text": [
      "c:\\python27\\lib\\site-packages\\ipykernel_launcher.py:15: DataConversionWarning: Data with input dtype int64, float64 were all converted to float64 by the scale function.\n",
      "  from ipykernel import kernelapp as app\n"
     ]
    },
    {
     "data": {
      "image/png": "[encoded data removed]",
      "text/plain": [
       "<Figure size 432x288 with 1 Axes>"
      ]
     },
     "metadata": {
      "needs_background": "light"
     },
     "output_type": "display_data"
    },
    {
     "data": {
      "image/png": "[encoded data removed]",
      "text/plain": [
       "<Figure size 432x288 with 1 Axes>"
      ]
     },
     "metadata": {
      "needs_background": "light"
     },
     "output_type": "display_data"
    },
    {
     "data": {
      "text/html": [
       "<div>\n",
       "<style scoped>\n",
       "    .dataframe tbody tr th:only-of-type {\n",
       "        vertical-align: middle;\n",
       "    }\n",
       "\n",
       "    .dataframe tbody tr th {\n",
       "        vertical-align: top;\n",
       "    }\n",
       "\n",
       "    .dataframe thead th {\n",
       "        text-align: right;\n",
       "    }\n",
       "</style>\n",
       "<table border=\"1\" class=\"dataframe\">\n",
       "  <thead>\n",
       "    <tr style=\"text-align: right;\">\n",
       "      <th></th>\n",
       "      <th>Energy</th>\n",
       "      <th>Liveness</th>\n",
       "      <th>Tempo</th>\n",
       "      <th>Speechiness</th>\n",
       "      <th>Acousticness</th>\n",
       "      <th>Instrumentalness</th>\n",
       "      <th>Time Signature</th>\n",
       "      <th>Danceability</th>\n",
       "      <th>Key</th>\n",
       "      <th>Duration in ms</th>\n",
       "      <th>Loudness</th>\n",
       "      <th>Valence</th>\n",
       "      <th>Mode</th>\n",
       "      <th>Is_Popular</th>\n",
       "    </tr>\n",
       "  </thead>\n",
       "  <tbody>\n",
       "    <tr>\n",
       "      <th>0</th>\n",
       "      <td>-0.753677</td>\n",
       "      <td>-0.455713</td>\n",
       "      <td>0.073642</td>\n",
       "      <td>0.583880</td>\n",
       "      <td>-0.770167</td>\n",
       "      <td>-0.130535</td>\n",
       "      <td>0.058124</td>\n",
       "      <td>2.059965</td>\n",
       "      <td>-1.150414</td>\n",
       "      <td>-0.540127</td>\n",
       "      <td>-0.501660</td>\n",
       "      <td>0.692417</td>\n",
       "      <td>0.858033</td>\n",
       "      <td>0</td>\n",
       "    </tr>\n",
       "    <tr>\n",
       "      <th>1</th>\n",
       "      <td>0.833382</td>\n",
       "      <td>-0.065400</td>\n",
       "      <td>-0.780769</td>\n",
       "      <td>-0.797869</td>\n",
       "      <td>-0.286706</td>\n",
       "      <td>-0.130535</td>\n",
       "      <td>0.058124</td>\n",
       "      <td>-0.119430</td>\n",
       "      <td>-0.036010</td>\n",
       "      <td>0.251132</td>\n",
       "      <td>1.495764</td>\n",
       "      <td>0.692417</td>\n",
       "      <td>0.858033</td>\n",
       "      <td>1</td>\n",
       "    </tr>\n",
       "    <tr>\n",
       "      <th>2</th>\n",
       "      <td>0.141745</td>\n",
       "      <td>-0.397166</td>\n",
       "      <td>-1.143120</td>\n",
       "      <td>1.729229</td>\n",
       "      <td>1.274783</td>\n",
       "      <td>-0.130535</td>\n",
       "      <td>0.058124</td>\n",
       "      <td>-1.080483</td>\n",
       "      <td>0.242591</td>\n",
       "      <td>-0.764371</td>\n",
       "      <td>-0.689448</td>\n",
       "      <td>-0.952450</td>\n",
       "      <td>-1.165456</td>\n",
       "      <td>1</td>\n",
       "    </tr>\n",
       "    <tr>\n",
       "      <th>3</th>\n",
       "      <td>0.685174</td>\n",
       "      <td>0.962424</td>\n",
       "      <td>0.005565</td>\n",
       "      <td>-0.851014</td>\n",
       "      <td>-1.055010</td>\n",
       "      <td>-0.130471</td>\n",
       "      <td>0.058124</td>\n",
       "      <td>0.591900</td>\n",
       "      <td>1.635597</td>\n",
       "      <td>0.226528</td>\n",
       "      <td>0.049662</td>\n",
       "      <td>-0.172072</td>\n",
       "      <td>0.858033</td>\n",
       "      <td>1</td>\n",
       "    </tr>\n",
       "    <tr>\n",
       "      <th>4</th>\n",
       "      <td>-0.833956</td>\n",
       "      <td>0.533080</td>\n",
       "      <td>-0.643045</td>\n",
       "      <td>1.811694</td>\n",
       "      <td>-1.057155</td>\n",
       "      <td>-0.130535</td>\n",
       "      <td>0.058124</td>\n",
       "      <td>1.499981</td>\n",
       "      <td>-0.871813</td>\n",
       "      <td>-1.914379</td>\n",
       "      <td>-0.982058</td>\n",
       "      <td>-0.905720</td>\n",
       "      <td>0.858033</td>\n",
       "      <td>1</td>\n",
       "    </tr>\n",
       "  </tbody>\n",
       "</table>\n",
       "</div>"
      ],
      "text/plain": [
       "     Energy  Liveness     Tempo  Speechiness  Acousticness  Instrumentalness  \\\n",
       "0 -0.753677 -0.455713  0.073642     0.583880     -0.770167         -0.130535   \n",
       "1  0.833382 -0.065400 -0.780769    -0.797869     -0.286706         -0.130535   \n",
       "2  0.141745 -0.397166 -1.143120     1.729229      1.274783         -0.130535   \n",
       "3  0.685174  0.962424  0.005565    -0.851014     -1.055010         -0.130471   \n",
       "4 -0.833956  0.533080 -0.643045     1.811694     -1.057155         -0.130535   \n",
       "\n",
       "   Time Signature  Danceability       Key  Duration in ms  Loudness   Valence  \\\n",
       "0        0.058124      2.059965 -1.150414       -0.540127 -0.501660  0.692417   \n",
       "1        0.058124     -0.119430 -0.036010        0.251132  1.495764  0.692417   \n",
       "2        0.058124     -1.080483  0.242591       -0.764371 -0.689448 -0.952450   \n",
       "3        0.058124      0.591900  1.635597        0.226528  0.049662 -0.172072   \n",
       "4        0.058124      1.499981 -0.871813       -1.914379 -0.982058 -0.905720   \n",
       "\n",
       "       Mode  Is_Popular  \n",
       "0  0.858033           0  \n",
       "1  0.858033           1  \n",
       "2 -1.165456           1  \n",
       "3  0.858033           1  \n",
       "4  0.858033           1  "
      ]
     },
     "execution_count": 270,
     "metadata": {},
     "output_type": "execute_result"
    }
   ],
   "source": [
    "from sklearn.preprocessing import scale, MinMaxScaler\n",
    "\n",
    "COLUMNS_TO_SCALE = [\"Energy\", \"Liveness\", \"Tempo\", \n",
    "                    \"Speechiness\", \"Acousticness\", \"Instrumentalness\", \n",
    "                    \"Time Signature\", \"Danceability\", \"Key\", \n",
    "                    \"Duration in ms\", \"Loudness\", \"Valence\", \"Mode\"]\n",
    "\n",
    "# Keep data in a temp variable for testing\n",
    "scaled_data = final_data.copy()\n",
    "\n",
    "# Normalization\n",
    "#scaled_data[COLUMNS_TO_SCALE] = MinMaxScaler().fit_transform(scaled_data[COLUMNS_TO_SCALE])\n",
    "\n",
    "#Standardization\n",
    "scaled_data[COLUMNS_TO_SCALE] = scale(scaled_data[COLUMNS_TO_SCALE])\n",
    "\n",
    "# Plots to see the difference before/after scaling\n",
    "plt.plot(final_data['Duration in ms'])\n",
    "plt.title(\"Before scaling\")\n",
    "plt.show()\n",
    "\n",
    "plt.plot(scaled_data['Duration in ms'])\n",
    "plt.title(\"After scaling\")\n",
    "plt.show()\n",
    "\n",
    "# Copy data back\n",
    "final_data = scaled_data.copy()\n",
    "\n",
    "#Just to check that everything is fine\n",
    "final_data.head()"
   ]
  },
  {
   "cell_type": "markdown",
   "metadata": {},
   "source": [
    "## Extract labels from data"
   ]
  },
  {
   "cell_type": "code",
   "execution_count": 271,
   "metadata": {
    "scrolled": true
   },
   "outputs": [
    {
     "name": "stdout",
     "output_type": "stream",
     "text": [
      "Number of entries in actual data: 441\n",
      "Number of entries in label data: 441\n"
     ]
    }
   ],
   "source": [
    "# X will be our examples and y will be our labels\n",
    "X = final_data.drop('Is_Popular', axis=1)\n",
    "y = final_data['Is_Popular']\n",
    "# Sanity checks\n",
    "print(\"Number of entries in actual data: \" + str(len(X.index)))\n",
    "print(\"Number of entries in label data: \" + str(len(y.index)))"
   ]
  },
  {
   "cell_type": "markdown",
   "metadata": {},
   "source": [
    "## Splitting data"
   ]
  },
  {
   "cell_type": "code",
   "execution_count": 304,
   "metadata": {},
   "outputs": [
    {
     "name": "stdout",
     "output_type": "stream",
     "text": [
      "Items in training data set :  220\n",
      "Items in testing data set:  221\n"
     ]
    }
   ],
   "source": [
    "# We split the data into training and testing data\n",
    "from sklearn.model_selection import train_test_split\n",
    "X_train, X_test, y_train, y_test = train_test_split(X, y, test_size=0.5)\n",
    "print(\"Items in training data set : \", str(len(X_train.index)))\n",
    "print(\"Items in testing data set: \", str(len(X_test.index)))"
   ]
  },
  {
   "cell_type": "markdown",
   "metadata": {},
   "source": [
    "## Model training and prediction"
   ]
  },
  {
   "cell_type": "code",
   "execution_count": 334,
   "metadata": {},
   "outputs": [
    {
     "name": "stdout",
     "output_type": "stream",
     "text": [
      "LogisticRegression(C=1.0, class_weight='balanced', dual=False,\n",
      "          fit_intercept=True, intercept_scaling=1, max_iter=100,\n",
      "          multi_class='warn', n_jobs=None, penalty='l2', random_state=None,\n",
      "          solver='warn', tol=0.0001, verbose=0, warm_start=False)\n"
     ]
    },
    {
     "name": "stderr",
     "output_type": "stream",
     "text": [
      "c:\\python27\\lib\\site-packages\\sklearn\\linear_model\\logistic.py:432: FutureWarning: Default solver will be changed to 'lbfgs' in 0.22. Specify a solver to silence this warning.\n",
      "  FutureWarning)\n"
     ]
    },
    {
     "data": {
      "text/plain": [
       "0.579185520361991"
      ]
     },
     "execution_count": 334,
     "metadata": {},
     "output_type": "execute_result"
    }
   ],
   "source": [
    "# Initialize Logistic Regression Model\n",
    "from sklearn.linear_model import LogisticRegression\n",
    "\n",
    "# Can use the class_weight argument to assign different weights to the classes\n",
    "# balanced - calculates the right weights according to the number of examples\n",
    "# each class\n",
    "\n",
    "logmodel = LogisticRegression(class_weight='balanced')\n",
    "#logmodel = LogisticRegression()\n",
    "\n",
    "print(logmodel)\n",
    "# Train the model\n",
    "logmodel.fit(X_train, y_train)\n",
    "\n",
    "# Classifiy test examples\n",
    "predictions = logmodel.predict(X_test)\n",
    "\n",
    "# Print the accuracy score of the model\n",
    "from sklearn.metrics import accuracy_score\n",
    "accuracy_score(y_test, predictions)"
   ]
  },
  {
   "cell_type": "code",
   "execution_count": 335,
   "metadata": {},
   "outputs": [
    {
     "name": "stdout",
     "output_type": "stream",
     "text": [
      "[ 0.51111111  0.57777778  0.63636364  0.43181818  0.5         0.63636364\n",
      "  0.59090909  0.63636364  0.25        0.48837209]\n",
      "0.525907916373\n"
     ]
    },
    {
     "name": "stderr",
     "output_type": "stream",
     "text": [
      "c:\\python27\\lib\\site-packages\\sklearn\\linear_model\\logistic.py:432: FutureWarning: Default solver will be changed to 'lbfgs' in 0.22. Specify a solver to silence this warning.\n",
      "  FutureWarning)\n",
      "c:\\python27\\lib\\site-packages\\sklearn\\linear_model\\logistic.py:432: FutureWarning: Default solver will be changed to 'lbfgs' in 0.22. Specify a solver to silence this warning.\n",
      "  FutureWarning)\n",
      "c:\\python27\\lib\\site-packages\\sklearn\\linear_model\\logistic.py:432: FutureWarning: Default solver will be changed to 'lbfgs' in 0.22. Specify a solver to silence this warning.\n",
      "  FutureWarning)\n",
      "c:\\python27\\lib\\site-packages\\sklearn\\linear_model\\logistic.py:432: FutureWarning: Default solver will be changed to 'lbfgs' in 0.22. Specify a solver to silence this warning.\n",
      "  FutureWarning)\n",
      "c:\\python27\\lib\\site-packages\\sklearn\\linear_model\\logistic.py:432: FutureWarning: Default solver will be changed to 'lbfgs' in 0.22. Specify a solver to silence this warning.\n",
      "  FutureWarning)\n",
      "c:\\python27\\lib\\site-packages\\sklearn\\linear_model\\logistic.py:432: FutureWarning: Default solver will be changed to 'lbfgs' in 0.22. Specify a solver to silence this warning.\n",
      "  FutureWarning)\n",
      "c:\\python27\\lib\\site-packages\\sklearn\\linear_model\\logistic.py:432: FutureWarning: Default solver will be changed to 'lbfgs' in 0.22. Specify a solver to silence this warning.\n",
      "  FutureWarning)\n",
      "c:\\python27\\lib\\site-packages\\sklearn\\linear_model\\logistic.py:432: FutureWarning: Default solver will be changed to 'lbfgs' in 0.22. Specify a solver to silence this warning.\n",
      "  FutureWarning)\n",
      "c:\\python27\\lib\\site-packages\\sklearn\\linear_model\\logistic.py:432: FutureWarning: Default solver will be changed to 'lbfgs' in 0.22. Specify a solver to silence this warning.\n",
      "  FutureWarning)\n",
      "c:\\python27\\lib\\site-packages\\sklearn\\linear_model\\logistic.py:432: FutureWarning: Default solver will be changed to 'lbfgs' in 0.22. Specify a solver to silence this warning.\n",
      "  FutureWarning)\n"
     ]
    }
   ],
   "source": [
    "# Calculate k-fold cross validation score\n",
    "from sklearn.model_selection import cross_val_score\n",
    "scores = cross_val_score(logmodel, X, y, cv=10, scoring='accuracy')\n",
    "print(scores)\n",
    "print(scores.mean())"
   ]
  },
  {
   "cell_type": "code",
   "execution_count": 306,
   "metadata": {},
   "outputs": [
    {
     "name": "stdout",
     "output_type": "stream",
     "text": [
      "              precision    recall  f1-score   support\n",
      "\n",
      "           0       0.89      0.58      0.70       188\n",
      "           1       0.19      0.58      0.29        33\n",
      "\n",
      "   micro avg       0.58      0.58      0.58       221\n",
      "   macro avg       0.54      0.58      0.50       221\n",
      "weighted avg       0.78      0.58      0.64       221\n",
      "\n"
     ]
    }
   ],
   "source": [
    "# Print the classification report of the model\n",
    "from sklearn.metrics import classification_report\n",
    "print(classification_report(y_test, predictions))"
   ]
  },
  {
   "cell_type": "code",
   "execution_count": 307,
   "metadata": {},
   "outputs": [
    {
     "name": "stdout",
     "output_type": "stream",
     "text": [
      "[[109  79]\n",
      " [ 14  19]]\n"
     ]
    }
   ],
   "source": [
    "# Print the confusion matrix\n",
    "from sklearn.metrics import confusion_matrix\n",
    "print(confusion_matrix(y_test, predictions))"
   ]
  },
  {
   "cell_type": "code",
   "execution_count": 308,
   "metadata": {},
   "outputs": [
    {
     "data": {
      "image/png": "[encoded data removed]",
      "text/plain": [
       "<Figure size 432x288 with 1 Axes>"
      ]
     },
     "metadata": {
      "needs_background": "light"
     },
     "output_type": "display_data"
    },
    {
     "name": "stdout",
     "output_type": "stream",
     "text": [
      "AUC score:  0.607350096712\n"
     ]
    }
   ],
   "source": [
    "# ROC curve\n",
    "from sklearn.metrics import roc_curve\n",
    "y_pred_prob = logmodel.predict_proba(X_test)[:,1]\n",
    "fpr, tpr, thresholds = roc_curve(y_test, y_pred_prob)\n",
    "plt.plot(fpr, tpr)\n",
    "plt.plot([0,0],[1,1])\n",
    "plt.xlim([0.0, 1.0])\n",
    "plt.ylim([0.0, 1.0])\n",
    "plt.title('ROC curve for Logistic Regression')\n",
    "plt.xlabel('False Positive Rate (1 - Specificity)')\n",
    "plt.ylabel('True Positive Rate (Sensitivity)')\n",
    "plt.grid(True)\n",
    "plt.show()\n",
    "\n",
    "\n",
    "# AUC score\n",
    "from sklearn.metrics import roc_auc_score\n",
    "print(\"AUC score: \", roc_auc_score(y_test, y_pred_prob))"
   ]
  },
  {
   "cell_type": "markdown",
   "metadata": {},
   "source": [
    "## K Nearest Neighbours"
   ]
  },
  {
   "cell_type": "code",
   "execution_count": 348,
   "metadata": {},
   "outputs": [
    {
     "data": {
      "text/plain": [
       "0.85067873303167418"
      ]
     },
     "execution_count": 348,
     "metadata": {},
     "output_type": "execute_result"
    }
   ],
   "source": [
    "from sklearn.neighbors import KNeighborsClassifier\n",
    "nbrs = KNeighborsClassifier(n_neighbors = 14)\n",
    "\n",
    "nbrs.fit(X_train, y_train)\n",
    "\n",
    "# Classifiy test examples\n",
    "predictionsKNN = nbrs.predict(X_test)\n",
    "accuracy_score(y_test, predictionsKNN)"
   ]
  },
  {
   "cell_type": "code",
   "execution_count": null,
   "metadata": {},
   "outputs": [],
   "source": [
    "# Looking for the best k value\n",
    "k_range = list(range(1, 25))\n",
    "k_scores = []\n",
    "for k in k_range:\n",
    "    knn = KNeighborsClassifier(n_neighbors=k)\n",
    "    scores = cross_val_score(knn, X, y, cv=10, scoring='accuracy')\n",
    "    k_scores.append(scores.mean())\n",
    "print(k_scores)"
   ]
  },
  {
   "cell_type": "code",
   "execution_count": null,
   "metadata": {},
   "outputs": [],
   "source": [
    "# plot the value of K for KNN (x-axis) versus the cross-validated accuracy (y-axis)\n",
    "plt.plot(k_range, k_scores)\n",
    "plt.xlabel('Value of K for KNN')\n",
    "plt.ylabel('Cross-Validated Accuracy')"
   ]
  },
  {
   "cell_type": "code",
   "execution_count": 349,
   "metadata": {},
   "outputs": [
    {
     "name": "stdout",
     "output_type": "stream",
     "text": [
      "[ 0.86666667  0.86666667  0.86363636  0.86363636  0.86363636  0.86363636\n",
      "  0.86363636  0.86363636  0.86363636  0.88372093]\n",
      "0.866250880902\n"
     ]
    }
   ],
   "source": [
    "# Calculate k-fold cross validation score\n",
    "from sklearn.model_selection import cross_val_score\n",
    "scores = cross_val_score(nbrs, X, y, cv=10, scoring='accuracy')\n",
    "print(scores)\n",
    "print(scores.mean())"
   ]
  },
  {
   "cell_type": "code",
   "execution_count": 351,
   "metadata": {},
   "outputs": [
    {
     "name": "stdout",
     "output_type": "stream",
     "text": [
      "              precision    recall  f1-score   support\n",
      "\n",
      "           0       0.85      1.00      0.92       188\n",
      "           1       0.00      0.00      0.00        33\n",
      "\n",
      "   micro avg       0.85      0.85      0.85       221\n",
      "   macro avg       0.43      0.50      0.46       221\n",
      "weighted avg       0.72      0.85      0.78       221\n",
      "\n"
     ]
    },
    {
     "name": "stderr",
     "output_type": "stream",
     "text": [
      "c:\\python27\\lib\\site-packages\\sklearn\\metrics\\classification.py:1143: UndefinedMetricWarning: Precision and F-score are ill-defined and being set to 0.0 in labels with no predicted samples.\n",
      "  'precision', 'predicted', average, warn_for)\n",
      "c:\\python27\\lib\\site-packages\\sklearn\\metrics\\classification.py:1143: UndefinedMetricWarning: Precision and F-score are ill-defined and being set to 0.0 in labels with no predicted samples.\n",
      "  'precision', 'predicted', average, warn_for)\n",
      "c:\\python27\\lib\\site-packages\\sklearn\\metrics\\classification.py:1143: UndefinedMetricWarning: Precision and F-score are ill-defined and being set to 0.0 in labels with no predicted samples.\n",
      "  'precision', 'predicted', average, warn_for)\n"
     ]
    }
   ],
   "source": [
    "print(classification_report(y_test, predictionsKNN))"
   ]
  },
  {
   "cell_type": "code",
   "execution_count": 352,
   "metadata": {
    "scrolled": true
   },
   "outputs": [
    {
     "data": {
      "text/plain": [
       "array([[188,   0],\n",
       "       [ 33,   0]], dtype=int64)"
      ]
     },
     "execution_count": 352,
     "metadata": {},
     "output_type": "execute_result"
    }
   ],
   "source": [
    "confusion_matrix(y_test, predictionsKNN)"
   ]
  },
  {
   "cell_type": "code",
   "execution_count": 353,
   "metadata": {},
   "outputs": [
    {
     "data": {
      "image/png": "[encoded data removed]",
      "text/plain": [
       "<Figure size 432x288 with 1 Axes>"
      ]
     },
     "metadata": {
      "needs_background": "light"
     },
     "output_type": "display_data"
    },
    {
     "name": "stdout",
     "output_type": "stream",
     "text": [
      "AUC score:  0.621212121212\n"
     ]
    }
   ],
   "source": [
    "# ROC curve\n",
    "y_pred_prob_knn = nbrs.predict_proba(X_test)[:,1]\n",
    "fpr, tpr, thresholds = roc_curve(y_test, y_pred_prob_knn)\n",
    "plt.plot(fpr, tpr)\n",
    "plt.xlim([0.0, 1.0])\n",
    "plt.ylim([0.0, 1.0])\n",
    "plt.title('ROC curve for KNN')\n",
    "plt.xlabel('False Positive Rate (1 - Specificity)')\n",
    "plt.ylabel('True Positive Rate (Sensitivity)')\n",
    "plt.grid(True)\n",
    "plt.show()\n",
    "\n",
    "\n",
    "# AUC score\n",
    "print(\"AUC score: \", roc_auc_score(y_test, y_pred_prob_knn))"
   ]
  },
  {
   "cell_type": "markdown",
   "metadata": {},
   "source": [
    "Below I will use over-sampling with SMOTE(Synthetic Minority Oversampling Technique) to make up for the lack of examples of popular songs. This is one approach to fix the imbalanced class problem."
   ]
  },
  {
   "cell_type": "markdown",
   "metadata": {},
   "source": [
    "## Imbalanced Logistic Regression"
   ]
  },
  {
   "cell_type": "code",
   "execution_count": 313,
   "metadata": {},
   "outputs": [
    {
     "name": "stderr",
     "output_type": "stream",
     "text": [
      "c:\\python27\\lib\\site-packages\\sklearn\\linear_model\\logistic.py:432: FutureWarning: Default solver will be changed to 'lbfgs' in 0.22. Specify a solver to silence this warning.\n",
      "  FutureWarning)\n"
     ]
    }
   ],
   "source": [
    "from imblearn.pipeline import make_pipeline as make_pipeline_imb\n",
    "from imblearn.over_sampling import SMOTE\n",
    "from imblearn.metrics import classification_report_imbalanced\n",
    "classifier = LogisticRegression()\n",
    "smote_pipeline = make_pipeline_imb(SMOTE(), classifier)\n",
    "smote_model = smote_pipeline.fit(X_train, y_train)\n",
    "predictionsLogImb = smote_model.predict(X_test)"
   ]
  },
  {
   "cell_type": "code",
   "execution_count": 314,
   "metadata": {},
   "outputs": [
    {
     "name": "stdout",
     "output_type": "stream",
     "text": [
      "Normal data distribution:  Counter({0L: 382, 1L: 59})\n",
      "SMOTE data distribution:  Counter({0: 382, 1: 382})\n"
     ]
    }
   ],
   "source": [
    "from collections import Counter\n",
    "X_smote, y_smote = SMOTE().fit_sample(X, y)\n",
    "print(\"Normal data distribution: \", Counter(y))\n",
    "print(\"SMOTE data distribution: \", Counter(y_smote))"
   ]
  },
  {
   "cell_type": "code",
   "execution_count": 315,
   "metadata": {},
   "outputs": [
    {
     "name": "stdout",
     "output_type": "stream",
     "text": [
      "                   pre       rec       spe        f1       geo       iba       sup\n",
      "\n",
      "          0       0.87      0.62      0.48      0.72      0.55      0.30       188\n",
      "          1       0.18      0.48      0.62      0.26      0.55      0.30        33\n",
      "\n",
      "avg / total       0.77      0.60      0.50      0.65      0.55      0.30       221\n",
      "\n"
     ]
    }
   ],
   "source": [
    "print(classification_report_imbalanced(y_test, predictionsLogImb))"
   ]
  },
  {
   "cell_type": "code",
   "execution_count": 316,
   "metadata": {},
   "outputs": [
    {
     "name": "stdout",
     "output_type": "stream",
     "text": [
      "[[116  72]\n",
      " [ 17  16]]\n"
     ]
    }
   ],
   "source": [
    "print(confusion_matrix(y_test, predictionsLogImb))"
   ]
  },
  {
   "cell_type": "code",
   "execution_count": 317,
   "metadata": {},
   "outputs": [
    {
     "data": {
      "text/plain": [
       "0.59728506787330315"
      ]
     },
     "execution_count": 317,
     "metadata": {},
     "output_type": "execute_result"
    }
   ],
   "source": [
    "accuracy_score(y_test, predictionsLogImb)"
   ]
  },
  {
   "cell_type": "code",
   "execution_count": 318,
   "metadata": {},
   "outputs": [
    {
     "data": {
      "image/png": "[encoded data removed]",
      "text/plain": [
       "<Figure size 432x288 with 1 Axes>"
      ]
     },
     "metadata": {
      "needs_background": "light"
     },
     "output_type": "display_data"
    },
    {
     "name": "stdout",
     "output_type": "stream",
     "text": [
      "AUC score:  0.581399097357\n"
     ]
    }
   ],
   "source": [
    "# ROC curve\n",
    "y_pred_prob_log_imb = smote_model.predict_proba(X_test)[:,1]\n",
    "fpr, tpr, thresholds = roc_curve(y_test, y_pred_prob_log_imb)\n",
    "plt.plot(fpr, tpr)\n",
    "plt.xlim([0.0, 1.0])\n",
    "plt.ylim([0.0, 1.0])\n",
    "plt.title('ROC curve for balanced Logistic Regression')\n",
    "plt.xlabel('False Positive Rate (1 - Specificity)')\n",
    "plt.ylabel('True Positive Rate (Sensitivity)')\n",
    "plt.grid(True)\n",
    "plt.show()\n",
    "\n",
    "\n",
    "# AUC score\n",
    "print(\"AUC score: \", roc_auc_score(y_test, y_pred_prob_log_imb))"
   ]
  },
  {
   "cell_type": "markdown",
   "metadata": {},
   "source": [
    "## Imbalanced KNN"
   ]
  },
  {
   "cell_type": "code",
   "execution_count": 359,
   "metadata": {},
   "outputs": [],
   "source": [
    "classifierKNN = KNeighborsClassifier(n_neighbors = 5)\n",
    "smote_pipeline_knn = make_pipeline_imb(SMOTE(), classifierKNN)\n",
    "smote_model_knn = smote_pipeline_knn.fit(X_train, y_train)\n",
    "predictionsKnnImb = smote_model_knn.predict(X_test)"
   ]
  },
  {
   "cell_type": "code",
   "execution_count": 360,
   "metadata": {},
   "outputs": [
    {
     "name": "stdout",
     "output_type": "stream",
     "text": [
      "                   pre       rec       spe        f1       geo       iba       sup\n",
      "\n",
      "          0       0.88      0.73      0.42      0.80      0.56      0.32       188\n",
      "          1       0.22      0.42      0.73      0.29      0.56      0.30        33\n",
      "\n",
      "avg / total       0.78      0.68      0.47      0.72      0.56      0.32       221\n",
      "\n"
     ]
    }
   ],
   "source": [
    "print(classification_report_imbalanced(y_test, predictionsKnnImb))"
   ]
  },
  {
   "cell_type": "code",
   "execution_count": 361,
   "metadata": {},
   "outputs": [
    {
     "data": {
      "text/plain": [
       "0.68325791855203621"
      ]
     },
     "execution_count": 361,
     "metadata": {},
     "output_type": "execute_result"
    }
   ],
   "source": [
    "accuracy_score(y_test, predictionsKnnImb)"
   ]
  },
  {
   "cell_type": "code",
   "execution_count": 362,
   "metadata": {},
   "outputs": [
    {
     "name": "stdout",
     "output_type": "stream",
     "text": [
      "[[137  51]\n",
      " [ 19  14]]\n"
     ]
    }
   ],
   "source": [
    "print(confusion_matrix(y_test, predictionsKnnImb))"
   ]
  },
  {
   "cell_type": "code",
   "execution_count": 363,
   "metadata": {},
   "outputs": [
    {
     "data": {
      "image/png": "[encoded data removed]",
      "text/plain": [
       "<Figure size 432x288 with 1 Axes>"
      ]
     },
     "metadata": {
      "needs_background": "light"
     },
     "output_type": "display_data"
    },
    {
     "name": "stdout",
     "output_type": "stream",
     "text": [
      "AUC score:  0.599532559639\n"
     ]
    }
   ],
   "source": [
    "# ROC curve\n",
    "y_pred_prob_knn_imb = smote_model_knn.predict_proba(X_test)[:,1]\n",
    "fpr, tpr, thresholds = roc_curve(y_test, y_pred_prob_knn_imb)\n",
    "plt.plot(fpr, tpr)\n",
    "plt.xlim([0.0, 1.0])\n",
    "plt.ylim([0.0, 1.0])\n",
    "plt.title('ROC curve for balanced Logistic Regression')\n",
    "plt.xlabel('False Positive Rate (1 - Specificity)')\n",
    "plt.ylabel('True Positive Rate (Sensitivity)')\n",
    "plt.grid(True)\n",
    "plt.show()\n",
    "\n",
    "\n",
    "# AUC score\n",
    "print(\"AUC score: \", roc_auc_score(y_test, y_pred_prob_knn_imb))"
   ]
  },
  {
   "cell_type": "code",
   "execution_count": null,
   "metadata": {},
   "outputs": [],
   "source": []
  }
 ],
 "metadata": {
  "kernelspec": {
   "display_name": "Python 2",
   "language": "python",
   "name": "python2"
  },
  "language_info": {
   "codemirror_mode": {
    "name": "ipython",
    "version": 2
   },
   "file_extension": ".py",
   "mimetype": "text/x-python",
   "name": "python",
   "nbconvert_exporter": "python",
   "pygments_lexer": "ipython2",
   "version": "2.7.11"
  }
 },
 "nbformat": 4,
 "nbformat_minor": 2
}
