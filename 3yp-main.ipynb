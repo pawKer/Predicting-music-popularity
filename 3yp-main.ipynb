{
 "cells": [
  {
   "cell_type": "markdown",
   "metadata": {},
   "source": [
    "<h1>Imports and API setups<h1>"
   ]
  },
  {
   "cell_type": "code",
   "execution_count": 3,
   "metadata": {
    "scrolled": false
   },
   "outputs": [],
   "source": [
    "from __future__ import print_function    # (at top of module)\n",
    "import warnings\n",
    "warnings.filterwarnings('always')\n",
    "from spotipy.oauth2 import SpotifyClientCredentials\n",
    "import json\n",
    "import spotipy\n",
    "import time\n",
    "import sys\n",
    "import csv\n",
    "import pandas as pd\n",
    "import numpy as np\n",
    "import matplotlib\n",
    "import matplotlib.pyplot as plt\n",
    "% matplotlib inline\n",
    "import math\n",
    "import seaborn as sns\n",
    "import config\n",
    "\n",
    "\n",
    "# Spotify API Setup\n",
    "client_credentials_manager = SpotifyClientCredentials(config.client_id, config.client_secret)\n",
    "sp = spotipy.Spotify(client_credentials_manager=client_credentials_manager)\n",
    "\n",
    "# Enables verbose requests tracing\n",
    "sp.trace=False"
   ]
  },
  {
   "cell_type": "markdown",
   "metadata": {},
   "source": [
    "## Read data from CSV"
   ]
  },
  {
   "cell_type": "code",
   "execution_count": 4,
   "metadata": {},
   "outputs": [
    {
     "name": "stdout",
     "output_type": "stream",
     "text": [
      "Number of entries in original data: 441\n"
     ]
    }
   ],
   "source": [
    "# Read the data from the file\n",
    "data = pd.read_csv('file_path_big.csv')\n",
    "data.head()\n",
    "print(\"Number of entries in original data: \" + str(len(data.index)))"
   ]
  },
  {
   "cell_type": "markdown",
   "metadata": {},
   "source": [
    "## Clean the data"
   ]
  },
  {
   "cell_type": "code",
   "execution_count": 5,
   "metadata": {},
   "outputs": [
    {
     "name": "stdout",
     "output_type": "stream",
     "text": [
      "Number of entries in original data after cleaning: 441\n"
     ]
    }
   ],
   "source": [
    "data = data.drop_duplicates(subset=['Song Title', 'Artist'], keep='first')\n",
    "print(\"Number of entries in original data after cleaning: \" + str(len(data.index)))"
   ]
  },
  {
   "cell_type": "markdown",
   "metadata": {},
   "source": [
    "## Analyzing the data"
   ]
  },
  {
   "cell_type": "code",
   "execution_count": null,
   "metadata": {},
   "outputs": [],
   "source": [
    "sns.countplot(x=\"Mode\", data=data)"
   ]
  },
  {
   "cell_type": "code",
   "execution_count": null,
   "metadata": {},
   "outputs": [],
   "source": [
    "sns.countplot(x=\"Time Signature\", data=data)"
   ]
  },
  {
   "cell_type": "code",
   "execution_count": null,
   "metadata": {},
   "outputs": [],
   "source": [
    "sns.countplot(x=\"Key\", data=data)"
   ]
  },
  {
   "cell_type": "code",
   "execution_count": null,
   "metadata": {},
   "outputs": [],
   "source": [
    "data['Popularity'].plot.hist(bins=30, rwidth=10,figsize=(10,8))\n",
    "plt.xlabel('Popularity')\n",
    "plt.title(\"Popularity histogram\")\n",
    "plt.grid(alpha=0.3)"
   ]
  },
  {
   "cell_type": "code",
   "execution_count": null,
   "metadata": {},
   "outputs": [],
   "source": [
    "sns.set_style('darkgrid')\n",
    "sns.distplot(data[\"Popularity\"])"
   ]
  },
  {
   "cell_type": "markdown",
   "metadata": {},
   "source": [
    "## Label the data according to threshold for plotting"
   ]
  },
  {
   "cell_type": "code",
   "execution_count": 9,
   "metadata": {},
   "outputs": [],
   "source": [
    "# Label data according to a threshold for nicer plotting\n",
    "labeled_data = data.copy()\n",
    "threshold = 70\n",
    "labels = []\n",
    "\n",
    "# The threshold is on Popularity, see above for description of that feature\n",
    "for item in data['Popularity']:\n",
    "    if item > threshold:\n",
    "        labels.append(1)\n",
    "    else:\n",
    "        labels.append(0)\n",
    "labeled_data['Is_Popular'] = labels"
   ]
  },
  {
   "cell_type": "code",
   "execution_count": null,
   "metadata": {},
   "outputs": [],
   "source": [
    "sns.countplot(x=\"Is_Popular\", hue = \"Mode\", data=labeled_data)"
   ]
  },
  {
   "cell_type": "code",
   "execution_count": null,
   "metadata": {},
   "outputs": [],
   "source": [
    "sns.scatterplot(x=\"Popularity\", y = \"Duration in ms\" , hue = \"Is_Popular\", data=labeled_data).set_title(\"Duration and popularity\")"
   ]
  },
  {
   "cell_type": "code",
   "execution_count": null,
   "metadata": {},
   "outputs": [],
   "source": [
    "sns.scatterplot(x=\"Popularity\", y = \"Instrumentalness\" , hue = \"Is_Popular\", data=labeled_data).set_title(\"Instrumentalness and popularity\")"
   ]
  },
  {
   "cell_type": "code",
   "execution_count": null,
   "metadata": {},
   "outputs": [],
   "source": [
    "sns.scatterplot(x=\"Popularity\", y = \"Loudness\" , hue = \"Is_Popular\", data=labeled_data).set_title(\"Loudness and popularity\")"
   ]
  },
  {
   "cell_type": "markdown",
   "metadata": {},
   "source": [
    "## Data wrangling"
   ]
  },
  {
   "cell_type": "code",
   "execution_count": null,
   "metadata": {},
   "outputs": [],
   "source": [
    "# Check if we have any null items in our data\n",
    "data.isnull().sum()"
   ]
  },
  {
   "cell_type": "markdown",
   "metadata": {},
   "source": [
    "## Setting popularity threshold and adding lables to data"
   ]
  },
  {
   "cell_type": "code",
   "execution_count": 97,
   "metadata": {},
   "outputs": [
    {
     "name": "stdout",
     "output_type": "stream",
     "text": [
      "Number of popular examples after thresholding :  59\n",
      "Number of not popular examples after thresholding :  382\n"
     ]
    }
   ],
   "source": [
    "# Make a copy of the data to which we will ad labels and then remove any \n",
    "# columns that we will not need\n",
    "# This is currently a duplicate of the functionality above - could maybe only do this in one place\n",
    "\n",
    "final_data = data.copy()\n",
    "threshold = 90\n",
    "labels = []\n",
    "labeled_popular = 0\n",
    "labeled_notpopular = 0\n",
    "for item in data['Popularity']:\n",
    "    if item > threshold:\n",
    "        labels.append(1)\n",
    "        labeled_popular = labeled_popular + 1\n",
    "    else:\n",
    "        labels.append(0)\n",
    "        labeled_notpopular = labeled_notpopular + 1\n",
    "final_data['Is_Popular'] = labels\n",
    "\n",
    "print('Number of popular examples after thresholding : ', labeled_popular)\n",
    "print('Number of not popular examples after thresholding : ', labeled_notpopular)\n",
    "\n",
    "# Drop unnecessary columns from original data\n",
    "final_data.drop(['Song Title', 'Artist', 'Popularity'], 1, inplace=True)"
   ]
  },
  {
   "cell_type": "markdown",
   "metadata": {},
   "source": [
    "## Scale the data"
   ]
  },
  {
   "cell_type": "code",
   "execution_count": 116,
   "metadata": {},
   "outputs": [
    {
     "data": {
      "image/png": "[encoded data removed]",
      "text/plain": [
       "<Figure size 432x288 with 1 Axes>"
      ]
     },
     "metadata": {
      "needs_background": "light"
     },
     "output_type": "display_data"
    },
    {
     "data": {
      "image/png": "[encoded data removed]",
      "text/plain": [
       "<Figure size 432x288 with 1 Axes>"
      ]
     },
     "metadata": {
      "needs_background": "light"
     },
     "output_type": "display_data"
    },
    {
     "data": {
      "text/html": [
       "<div>\n",
       "<style scoped>\n",
       "    .dataframe tbody tr th:only-of-type {\n",
       "        vertical-align: middle;\n",
       "    }\n",
       "\n",
       "    .dataframe tbody tr th {\n",
       "        vertical-align: top;\n",
       "    }\n",
       "\n",
       "    .dataframe thead th {\n",
       "        text-align: right;\n",
       "    }\n",
       "</style>\n",
       "<table border=\"1\" class=\"dataframe\">\n",
       "  <thead>\n",
       "    <tr style=\"text-align: right;\">\n",
       "      <th></th>\n",
       "      <th>Energy</th>\n",
       "      <th>Liveness</th>\n",
       "      <th>Tempo</th>\n",
       "      <th>Speechiness</th>\n",
       "      <th>Acousticness</th>\n",
       "      <th>Instrumentalness</th>\n",
       "      <th>Time Signature</th>\n",
       "      <th>Danceability</th>\n",
       "      <th>Key</th>\n",
       "      <th>Duration in ms</th>\n",
       "      <th>Loudness</th>\n",
       "      <th>Valence</th>\n",
       "      <th>Mode</th>\n",
       "      <th>Is_Popular</th>\n",
       "    </tr>\n",
       "  </thead>\n",
       "  <tbody>\n",
       "    <tr>\n",
       "      <th>0</th>\n",
       "      <td>-0.753677</td>\n",
       "      <td>-0.455713</td>\n",
       "      <td>0.073642</td>\n",
       "      <td>0.583880</td>\n",
       "      <td>-0.770167</td>\n",
       "      <td>-0.130535</td>\n",
       "      <td>0.058124</td>\n",
       "      <td>2.059965</td>\n",
       "      <td>-1.150414</td>\n",
       "      <td>-0.540127</td>\n",
       "      <td>-0.501660</td>\n",
       "      <td>0.692417</td>\n",
       "      <td>0.858033</td>\n",
       "      <td>0</td>\n",
       "    </tr>\n",
       "    <tr>\n",
       "      <th>1</th>\n",
       "      <td>0.833382</td>\n",
       "      <td>-0.065400</td>\n",
       "      <td>-0.780769</td>\n",
       "      <td>-0.797869</td>\n",
       "      <td>-0.286706</td>\n",
       "      <td>-0.130535</td>\n",
       "      <td>0.058124</td>\n",
       "      <td>-0.119430</td>\n",
       "      <td>-0.036010</td>\n",
       "      <td>0.251132</td>\n",
       "      <td>1.495764</td>\n",
       "      <td>0.692417</td>\n",
       "      <td>0.858033</td>\n",
       "      <td>1</td>\n",
       "    </tr>\n",
       "    <tr>\n",
       "      <th>2</th>\n",
       "      <td>0.141745</td>\n",
       "      <td>-0.397166</td>\n",
       "      <td>-1.143120</td>\n",
       "      <td>1.729229</td>\n",
       "      <td>1.274783</td>\n",
       "      <td>-0.130535</td>\n",
       "      <td>0.058124</td>\n",
       "      <td>-1.080483</td>\n",
       "      <td>0.242591</td>\n",
       "      <td>-0.764371</td>\n",
       "      <td>-0.689448</td>\n",
       "      <td>-0.952450</td>\n",
       "      <td>-1.165456</td>\n",
       "      <td>1</td>\n",
       "    </tr>\n",
       "    <tr>\n",
       "      <th>3</th>\n",
       "      <td>0.685174</td>\n",
       "      <td>0.962424</td>\n",
       "      <td>0.005565</td>\n",
       "      <td>-0.851014</td>\n",
       "      <td>-1.055010</td>\n",
       "      <td>-0.130471</td>\n",
       "      <td>0.058124</td>\n",
       "      <td>0.591900</td>\n",
       "      <td>1.635597</td>\n",
       "      <td>0.226528</td>\n",
       "      <td>0.049662</td>\n",
       "      <td>-0.172072</td>\n",
       "      <td>0.858033</td>\n",
       "      <td>1</td>\n",
       "    </tr>\n",
       "    <tr>\n",
       "      <th>4</th>\n",
       "      <td>-0.833956</td>\n",
       "      <td>0.533080</td>\n",
       "      <td>-0.643045</td>\n",
       "      <td>1.811694</td>\n",
       "      <td>-1.057155</td>\n",
       "      <td>-0.130535</td>\n",
       "      <td>0.058124</td>\n",
       "      <td>1.499981</td>\n",
       "      <td>-0.871813</td>\n",
       "      <td>-1.914379</td>\n",
       "      <td>-0.982058</td>\n",
       "      <td>-0.905720</td>\n",
       "      <td>0.858033</td>\n",
       "      <td>1</td>\n",
       "    </tr>\n",
       "  </tbody>\n",
       "</table>\n",
       "</div>"
      ],
      "text/plain": [
       "     Energy  Liveness     Tempo  Speechiness  Acousticness  Instrumentalness  \\\n",
       "0 -0.753677 -0.455713  0.073642     0.583880     -0.770167         -0.130535   \n",
       "1  0.833382 -0.065400 -0.780769    -0.797869     -0.286706         -0.130535   \n",
       "2  0.141745 -0.397166 -1.143120     1.729229      1.274783         -0.130535   \n",
       "3  0.685174  0.962424  0.005565    -0.851014     -1.055010         -0.130471   \n",
       "4 -0.833956  0.533080 -0.643045     1.811694     -1.057155         -0.130535   \n",
       "\n",
       "   Time Signature  Danceability       Key  Duration in ms  Loudness   Valence  \\\n",
       "0        0.058124      2.059965 -1.150414       -0.540127 -0.501660  0.692417   \n",
       "1        0.058124     -0.119430 -0.036010        0.251132  1.495764  0.692417   \n",
       "2        0.058124     -1.080483  0.242591       -0.764371 -0.689448 -0.952450   \n",
       "3        0.058124      0.591900  1.635597        0.226528  0.049662 -0.172072   \n",
       "4        0.058124      1.499981 -0.871813       -1.914379 -0.982058 -0.905720   \n",
       "\n",
       "       Mode  Is_Popular  \n",
       "0  0.858033           0  \n",
       "1  0.858033           1  \n",
       "2 -1.165456           1  \n",
       "3  0.858033           1  \n",
       "4  0.858033           1  "
      ]
     },
     "execution_count": 116,
     "metadata": {},
     "output_type": "execute_result"
    }
   ],
   "source": [
    "from sklearn.preprocessing import scale, MinMaxScaler\n",
    "\n",
    "COLUMNS_TO_SCALE = [\"Energy\", \"Liveness\", \"Tempo\", \n",
    "                    \"Speechiness\", \"Acousticness\", \"Instrumentalness\", \n",
    "                    \"Time Signature\", \"Danceability\", \"Key\", \n",
    "                    \"Duration in ms\", \"Loudness\", \"Valence\", \"Mode\"]\n",
    "\n",
    "# Keep data in a temp variable for testing\n",
    "scaled_data = final_data.copy()\n",
    "\n",
    "# Normalization\n",
    "#scaled_data[COLUMNS_TO_SCALE] = MinMaxScaler().fit_transform(scaled_data[COLUMNS_TO_SCALE])\n",
    "\n",
    "#Standardization\n",
    "scaled_data[COLUMNS_TO_SCALE] = scale(scaled_data[COLUMNS_TO_SCALE])\n",
    "\n",
    "# Plots to see the difference before/after scaling\n",
    "plt.plot(final_data['Duration in ms'])\n",
    "plt.title(\"Before scaling\")\n",
    "plt.show()\n",
    "\n",
    "plt.plot(scaled_data['Duration in ms'])\n",
    "plt.title(\"After scaling\")\n",
    "plt.show()\n",
    "\n",
    "# Copy data back\n",
    "final_data = scaled_data.copy()\n",
    "\n",
    "#Just to check that everything is fine\n",
    "final_data.head()"
   ]
  },
  {
   "cell_type": "markdown",
   "metadata": {},
   "source": [
    "## Extract labels from data"
   ]
  },
  {
   "cell_type": "code",
   "execution_count": 117,
   "metadata": {},
   "outputs": [
    {
     "name": "stdout",
     "output_type": "stream",
     "text": [
      "Number of entries in actual data: 441\n",
      "Number of entries in label data: 441\n"
     ]
    }
   ],
   "source": [
    "# X will be our examples and y will be our labels\n",
    "X = final_data.drop('Is_Popular', axis=1)\n",
    "y = final_data['Is_Popular']\n",
    "# Sanity checks\n",
    "print(\"Number of entries in actual data: \" + str(len(X.index)))\n",
    "print(\"Number of entries in label data: \" + str(len(y.index)))"
   ]
  },
  {
   "cell_type": "markdown",
   "metadata": {},
   "source": [
    "## Splitting data"
   ]
  },
  {
   "cell_type": "code",
   "execution_count": 118,
   "metadata": {},
   "outputs": [
    {
     "name": "stdout",
     "output_type": "stream",
     "text": [
      "Items in training data set :  220\n",
      "Items in testing data set:  221\n"
     ]
    }
   ],
   "source": [
    "# We split the data into training and testing data\n",
    "from sklearn.model_selection import train_test_split\n",
    "X_train, X_test, y_train, y_test = train_test_split(X, y, test_size=0.5, random_state=0)\n",
    "print(\"Items in training data set : \", str(len(X_train.index)))\n",
    "print(\"Items in testing data set: \", str(len(X_test.index)))"
   ]
  },
  {
   "cell_type": "markdown",
   "metadata": {},
   "source": [
    "## Model training and prediction"
   ]
  },
  {
   "cell_type": "code",
   "execution_count": 119,
   "metadata": {},
   "outputs": [
    {
     "name": "stdout",
     "output_type": "stream",
     "text": [
      "LogisticRegression(C=1.0, class_weight=None, dual=False, fit_intercept=True,\n",
      "          intercept_scaling=1, max_iter=100, multi_class='warn',\n",
      "          n_jobs=None, penalty='l2', random_state=None, solver='warn',\n",
      "          tol=0.0001, verbose=0, warm_start=False)\n"
     ]
    },
    {
     "name": "stderr",
     "output_type": "stream",
     "text": [
      "c:\\python27\\lib\\site-packages\\sklearn\\linear_model\\logistic.py:432: FutureWarning: Default solver will be changed to 'lbfgs' in 0.22. Specify a solver to silence this warning.\n",
      "  FutureWarning)\n"
     ]
    },
    {
     "data": {
      "text/plain": [
       "0.86425339366515841"
      ]
     },
     "execution_count": 119,
     "metadata": {},
     "output_type": "execute_result"
    }
   ],
   "source": [
    "# Initialize Logistic Regression Model\n",
    "from sklearn.linear_model import LogisticRegression\n",
    "logmodel = LogisticRegression()\n",
    "print(logmodel)\n",
    "# Train the model\n",
    "logmodel.fit(X_train, y_train)\n",
    "\n",
    "# Classifiy test examples\n",
    "predictions = logmodel.predict(X_test)\n",
    "\n",
    "# Print the accuracy score of the model\n",
    "from sklearn.metrics import accuracy_score\n",
    "accuracy_score(y_test, predictions)"
   ]
  },
  {
   "cell_type": "code",
   "execution_count": 120,
   "metadata": {},
   "outputs": [
    {
     "name": "stdout",
     "output_type": "stream",
     "text": [
      "              precision    recall  f1-score   support\n",
      "\n",
      "           0       0.86      1.00      0.93       190\n",
      "           1       1.00      0.03      0.06        31\n",
      "\n",
      "   micro avg       0.86      0.86      0.86       221\n",
      "   macro avg       0.93      0.52      0.49       221\n",
      "weighted avg       0.88      0.86      0.81       221\n",
      "\n"
     ]
    }
   ],
   "source": [
    "# Print the classification report of the model\n",
    "from sklearn.metrics import classification_report\n",
    "print(classification_report(y_test, predictions))"
   ]
  },
  {
   "cell_type": "code",
   "execution_count": 121,
   "metadata": {},
   "outputs": [
    {
     "name": "stdout",
     "output_type": "stream",
     "text": [
      "[[190   0]\n",
      " [ 30   1]]\n"
     ]
    }
   ],
   "source": [
    "# Print the confusion matrix\n",
    "from sklearn.metrics import confusion_matrix\n",
    "print(confusion_matrix(y_test, predictions))"
   ]
  },
  {
   "cell_type": "markdown",
   "metadata": {},
   "source": [
    "## K Nearest Neighbours"
   ]
  },
  {
   "cell_type": "code",
   "execution_count": 122,
   "metadata": {},
   "outputs": [
    {
     "data": {
      "text/plain": [
       "0.86425339366515841"
      ]
     },
     "execution_count": 122,
     "metadata": {},
     "output_type": "execute_result"
    }
   ],
   "source": [
    "from sklearn.neighbors import KNeighborsClassifier\n",
    "nbrs = KNeighborsClassifier(n_neighbors = 5)\n",
    "\n",
    "nbrs.fit(X_train, y_train)\n",
    "\n",
    "# Classifiy test examples\n",
    "predictionsKNN = nbrs.predict(X_test)\n",
    "accuracy_score(y_test, predictionsKNN)"
   ]
  },
  {
   "cell_type": "code",
   "execution_count": 123,
   "metadata": {},
   "outputs": [
    {
     "name": "stdout",
     "output_type": "stream",
     "text": [
      "              precision    recall  f1-score   support\n",
      "\n",
      "           0       0.87      0.99      0.93       190\n",
      "           1       0.67      0.06      0.12        31\n",
      "\n",
      "   micro avg       0.86      0.86      0.86       221\n",
      "   macro avg       0.77      0.53      0.52       221\n",
      "weighted avg       0.84      0.86      0.81       221\n",
      "\n"
     ]
    }
   ],
   "source": [
    "print(classification_report(y_test, predictionsKNN))"
   ]
  },
  {
   "cell_type": "code",
   "execution_count": 124,
   "metadata": {},
   "outputs": [
    {
     "data": {
      "text/plain": [
       "array([[189,   1],\n",
       "       [ 29,   2]], dtype=int64)"
      ]
     },
     "execution_count": 124,
     "metadata": {},
     "output_type": "execute_result"
    }
   ],
   "source": [
    "confusion_matrix(y_test, predictionsKNN)"
   ]
  },
  {
   "cell_type": "code",
   "execution_count": null,
   "metadata": {},
   "outputs": [],
   "source": []
  },
  {
   "cell_type": "code",
   "execution_count": null,
   "metadata": {},
   "outputs": [],
   "source": []
  }
 ],
 "metadata": {
  "kernelspec": {
   "display_name": "Python 2",
   "language": "python",
   "name": "python2"
  },
  "language_info": {
   "codemirror_mode": {
    "name": "ipython",
    "version": 2
   },
   "file_extension": ".py",
   "mimetype": "text/x-python",
   "name": "python",
   "nbconvert_exporter": "python",
   "pygments_lexer": "ipython2",
   "version": "2.7.11"
  }
 },
 "nbformat": 4,
 "nbformat_minor": 2
}
