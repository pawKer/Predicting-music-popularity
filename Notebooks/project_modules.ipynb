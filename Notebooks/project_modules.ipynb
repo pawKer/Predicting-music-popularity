{
 "cells": [
  {
   "cell_type": "markdown",
   "metadata": {},
   "source": [
    "# Imports"
   ]
  },
  {
   "cell_type": "code",
   "execution_count": 8,
   "metadata": {},
   "outputs": [],
   "source": [
    "from __future__ import print_function    # (at top of module)\n",
    "import warnings\n",
    "#warnings.filterwarnings('always')\n",
    "from spotipy.oauth2 import SpotifyClientCredentials\n",
    "import json\n",
    "import spotipy\n",
    "import time\n",
    "import csv\n",
    "import pandas as pd\n",
    "import numpy as np\n",
    "import matplotlib\n",
    "import matplotlib.pyplot as plt\n",
    "% matplotlib inline\n",
    "plt.rcParams['figure.figsize'] = [10, 10]\n",
    "from matplotlib.pyplot import figure\n",
    "import math\n",
    "import seaborn as sns\n",
    "import io, os, sys, types"
   ]
  },
  {
   "cell_type": "markdown",
   "metadata": {},
   "source": [
    "# Common methods that we use in our project"
   ]
  },
  {
   "cell_type": "code",
   "execution_count": 9,
   "metadata": {},
   "outputs": [],
   "source": [
    "from sklearn.preprocessing import scale, MinMaxScaler\n",
    "\n",
    "def scale_data_standardize(data, columns):\n",
    "    # Keep data in a temp variable for testing\n",
    "    scaled_data = data.copy()\n",
    "\n",
    "    # Normalization\n",
    "    #scaled_data[columns] = MinMaxScaler().fit_transform(scaled_data[columns])\n",
    "\n",
    "    #Standardization\n",
    "    scaled_data[columns] = scale(scaled_data[columns])\n",
    "\n",
    "    # Return data\n",
    "    return scaled_data\n",
    "\n",
    "def scale_data_normalize(data, columns):\n",
    "    # Keep data in a temp variable for testing\n",
    "    scaled_data = data.copy()\n",
    "\n",
    "    # Normalization\n",
    "    scaled_data[columns] = MinMaxScaler().fit_transform(scaled_data[columns])\n",
    "\n",
    "    # Return data\n",
    "    return scaled_data"
   ]
  },
  {
   "cell_type": "code",
   "execution_count": 10,
   "metadata": {},
   "outputs": [],
   "source": [
    "def label_data(data, threshold_value):\n",
    "    # Make a copy of the data to which we will ad labels and then remove any \n",
    "    # columns that we will not need\n",
    "    # This is currently a duplicate of the functionality above - could maybe only do this in one place\n",
    "\n",
    "    labeled_data = data.copy()\n",
    "    threshold = threshold_value\n",
    "    labels = []\n",
    "    labeled_popular = 0\n",
    "    labeled_notpopular = 0\n",
    "    for item in data['popularity']:\n",
    "        if item > threshold:\n",
    "            labels.append(1)\n",
    "            labeled_popular = labeled_popular + 1\n",
    "        else:\n",
    "            labels.append(0)\n",
    "            labeled_notpopular = labeled_notpopular + 1\n",
    "    labeled_data['is_popular'] = labels\n",
    "\n",
    "    print('Number of popular examples after thresholding : ', labeled_popular)\n",
    "    print('Number of not popular examples after thresholding : ', labeled_notpopular)\n",
    "    return labeled_data\n"
   ]
  },
  {
   "cell_type": "code",
   "execution_count": 2,
   "metadata": {},
   "outputs": [],
   "source": [
    "def label_data_combined(data, threshold_sp, threshold_yt, threshold_st):\n",
    "    # Make a copy of the data to which we will ad labels and then remove any \n",
    "    # columns that we will not need\n",
    "    # This is currently a duplicate of the functionality above - could maybe only do this in one place\n",
    "\n",
    "    labeled_data = data.copy()\n",
    "    labels = []\n",
    "    labeled_popular = 0\n",
    "    labeled_notpopular = 0\n",
    "    for item in data[['popularity', 'youtube_view_count', 'total_no_streams']].values:\n",
    "        if item[0] > threshold_sp or item[1] > threshold_yt or item[2] > threshold_st:\n",
    "            labels.append(1)\n",
    "            labeled_popular = labeled_popular + 1\n",
    "        else:\n",
    "            labels.append(0)\n",
    "            labeled_notpopular = labeled_notpopular + 1\n",
    "    labeled_data['is_popular'] = labels\n",
    "\n",
    "    print('Number of popular examples after thresholding : ', labeled_popular)\n",
    "    print('Number of not popular examples after thresholding : ', labeled_notpopular)\n",
    "    return labeled_data\n",
    "    "
   ]
  },
  {
   "cell_type": "code",
   "execution_count": null,
   "metadata": {},
   "outputs": [],
   "source": [
    "def label_data_yt(data, threshold_yt):\n",
    "    # Make a copy of the data to which we will ad labels and then remove any \n",
    "    # columns that we will not need\n",
    "    # This is currently a duplicate of the functionality above - could maybe only do this in one place\n",
    "\n",
    "    labeled_data = data.copy()\n",
    "    labels = []\n",
    "    labeled_popular = 0\n",
    "    labeled_notpopular = 0\n",
    "    for item in data[['popularity', 'youtube_view_count']].values:\n",
    "        if item[0] > threshold_sp or item[1] > threshold_yt:\n",
    "            labels.append(1)\n",
    "            labeled_popular = labeled_popular + 1\n",
    "        else:\n",
    "            labels.append(0)\n",
    "            labeled_notpopular = labeled_notpopular + 1\n",
    "    labeled_data['is_popular'] = labels\n",
    "\n",
    "    print('Number of popular examples after thresholding : ', labeled_popular)\n",
    "    print('Number of not popular examples after thresholding : ', labeled_notpopular)\n",
    "    return labeled_data\n",
    "    "
   ]
  }
 ],
 "metadata": {
  "kernelspec": {
   "display_name": "Python 2",
   "language": "python",
   "name": "python2"
  },
  "language_info": {
   "codemirror_mode": {
    "name": "ipython",
    "version": 2
   },
   "file_extension": ".py",
   "mimetype": "text/x-python",
   "name": "python",
   "nbconvert_exporter": "python",
   "pygments_lexer": "ipython2",
   "version": "2.7.11"
  }
 },
 "nbformat": 4,
 "nbformat_minor": 2
}
