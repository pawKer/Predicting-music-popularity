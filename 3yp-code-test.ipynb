{
 "cells": [
  {
   "cell_type": "code",
   "execution_count": null,
   "metadata": {},
   "outputs": [],
   "source": [
    "# cross validation done right\n",
    "from sklearn.metrics import precision_score, recall_score, f1_score, roc_auc_score, accuracy_score, classification_report\n",
    "kf = StratifiedKFold(n_splits=10, random_state=42)\n",
    "classifier = KNeighborsClassifier(n_neighbors = 14)\n",
    "accuracy = []\n",
    "precision = []\n",
    "recall = []\n",
    "f1 = []\n",
    "auc = []\n",
    "for train, test in kf.split(X, y):\n",
    "    pipeline = make_pipeline_imb(SMOTE(), classifier)\n",
    "    model = pipeline.fit(X[train], y[train])\n",
    "    prediction = model.predict(X[test])\n",
    "    prediction_proba = model.predict_proba(X[test])[:,1]\n",
    "    \n",
    "    accuracy.append(pipeline.score(X[test], y[test]))\n",
    "    precision.append(precision_score(y[test], prediction))\n",
    "    recall.append(recall_score(y[test], prediction))\n",
    "    f1.append(f1_score(y[test], prediction))\n",
    "    \n",
    "    auc.append(roc_auc_score(y[test], prediction_proba))\n",
    "    "
   ]
  },
  {
   "cell_type": "code",
   "execution_count": null,
   "metadata": {},
   "outputs": [],
   "source": [
    "print()\n",
    "print(\"done right mean of scores 10-fold:\")\n",
    "print(\"accuracy: {}\".format(np.mean(accuracy)))\n",
    "print(\"precision: {}\".format(np.mean(precision)))\n",
    "print(\"recall: {}\".format(np.mean(recall)))\n",
    "print(\"f1: {}\".format(np.mean(f1)))\n",
    "print(\"auc: {}\".format(np.mean(auc)))\n",
    "print()\n",
    "print(prediction_proba)"
   ]
  }
 ],
 "metadata": {
  "kernelspec": {
   "display_name": "Python 2",
   "language": "python",
   "name": "python2"
  },
  "language_info": {
   "codemirror_mode": {
    "name": "ipython",
    "version": 2
   },
   "file_extension": ".py",
   "mimetype": "text/x-python",
   "name": "python",
   "nbconvert_exporter": "python",
   "pygments_lexer": "ipython2",
   "version": "2.7.11"
  }
 },
 "nbformat": 4,
 "nbformat_minor": 2
}
