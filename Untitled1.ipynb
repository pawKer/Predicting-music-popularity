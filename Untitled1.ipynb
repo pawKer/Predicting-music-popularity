{
 "cells": [
  {
   "cell_type": "code",
   "execution_count": 191,
   "metadata": {},
   "outputs": [],
   "source": [
    "from __future__ import print_function    # (at top of module)\n",
    "import warnings\n",
    "warnings.filterwarnings('always')\n",
    "from spotipy.oauth2 import SpotifyClientCredentials\n",
    "import json\n",
    "import spotipy\n",
    "import time\n",
    "import csv\n",
    "import pandas as pd\n",
    "import numpy as np\n",
    "import matplotlib\n",
    "import matplotlib.pyplot as plt\n",
    "%matplotlib inline\n",
    "plt.rcParams['figure.figsize'] = [10, 10]\n",
    "from matplotlib.pyplot import figure\n",
    "import math\n",
    "import seaborn as sns\n",
    "import io, os, sys, types"
   ]
  },
  {
   "cell_type": "code",
   "execution_count": 192,
   "metadata": {},
   "outputs": [
    {
     "name": "stdout",
     "output_type": "stream",
     "text": [
      "Number of entries in original data: 570\n"
     ]
    },
    {
     "data": {
      "text/html": [
       "<div>\n",
       "<style scoped>\n",
       "    .dataframe tbody tr th:only-of-type {\n",
       "        vertical-align: middle;\n",
       "    }\n",
       "\n",
       "    .dataframe tbody tr th {\n",
       "        vertical-align: top;\n",
       "    }\n",
       "\n",
       "    .dataframe thead th {\n",
       "        text-align: right;\n",
       "    }\n",
       "</style>\n",
       "<table border=\"1\" class=\"dataframe\">\n",
       "  <thead>\n",
       "    <tr style=\"text-align: right;\">\n",
       "      <th></th>\n",
       "      <th>song_id</th>\n",
       "      <th>song_title</th>\n",
       "      <th>artist</th>\n",
       "      <th>popularity</th>\n",
       "      <th>energy</th>\n",
       "      <th>liveness</th>\n",
       "      <th>tempo</th>\n",
       "      <th>speechiness</th>\n",
       "      <th>acousticness</th>\n",
       "      <th>instrumentalness</th>\n",
       "      <th>time_signature</th>\n",
       "      <th>danceability</th>\n",
       "      <th>key</th>\n",
       "      <th>duration</th>\n",
       "      <th>loudness</th>\n",
       "      <th>valence</th>\n",
       "      <th>mode</th>\n",
       "      <th>youtube_view_count</th>\n",
       "      <th>youtube_video_title</th>\n",
       "    </tr>\n",
       "  </thead>\n",
       "  <tbody>\n",
       "    <tr>\n",
       "      <th>0</th>\n",
       "      <td>spotify:track:5ygDXis42ncn6kYG14lEVG</td>\n",
       "      <td>Baby Shark</td>\n",
       "      <td>[Pinkfong]</td>\n",
       "      <td>77</td>\n",
       "      <td>0.840</td>\n",
       "      <td>0.3410</td>\n",
       "      <td>115.062</td>\n",
       "      <td>0.2270</td>\n",
       "      <td>0.2450</td>\n",
       "      <td>0.000000</td>\n",
       "      <td>4</td>\n",
       "      <td>0.825</td>\n",
       "      <td>7</td>\n",
       "      <td>96333</td>\n",
       "      <td>-3.651</td>\n",
       "      <td>0.520</td>\n",
       "      <td>1</td>\n",
       "      <td>1956582159</td>\n",
       "      <td>Baby Shark Dance | Sing and Dance! | Animal So...</td>\n",
       "    </tr>\n",
       "    <tr>\n",
       "      <th>1</th>\n",
       "      <td>spotify:track:7fa9MBXhVfQ8P8Df9OEbD8</td>\n",
       "      <td>Girls Like You (feat. Cardi B)</td>\n",
       "      <td>[Maroon 5, Cardi B]</td>\n",
       "      <td>86</td>\n",
       "      <td>0.541</td>\n",
       "      <td>0.1300</td>\n",
       "      <td>124.959</td>\n",
       "      <td>0.0505</td>\n",
       "      <td>0.5680</td>\n",
       "      <td>0.000000</td>\n",
       "      <td>4</td>\n",
       "      <td>0.851</td>\n",
       "      <td>0</td>\n",
       "      <td>235545</td>\n",
       "      <td>-6.825</td>\n",
       "      <td>0.448</td>\n",
       "      <td>1</td>\n",
       "      <td>1300452389</td>\n",
       "      <td>Maroon 5 - Girls Like You ft. Cardi B</td>\n",
       "    </tr>\n",
       "    <tr>\n",
       "      <th>2</th>\n",
       "      <td>spotify:track:6De0lHrwBfPfrhorm9q1Xl</td>\n",
       "      <td>Me Rehúso</td>\n",
       "      <td>[Danny Ocean]</td>\n",
       "      <td>83</td>\n",
       "      <td>0.804</td>\n",
       "      <td>0.0494</td>\n",
       "      <td>104.823</td>\n",
       "      <td>0.0677</td>\n",
       "      <td>0.0231</td>\n",
       "      <td>0.000000</td>\n",
       "      <td>4</td>\n",
       "      <td>0.744</td>\n",
       "      <td>1</td>\n",
       "      <td>205715</td>\n",
       "      <td>-6.327</td>\n",
       "      <td>0.426</td>\n",
       "      <td>1</td>\n",
       "      <td>1229501096</td>\n",
       "      <td>Danny Ocean -  Me Rehúso (Official Audio)</td>\n",
       "    </tr>\n",
       "    <tr>\n",
       "      <th>3</th>\n",
       "      <td>spotify:track:1j6xOGusnyXq3l6IryKF3G</td>\n",
       "      <td>Déjala Que Vuelva (feat. Manuel Turizo)</td>\n",
       "      <td>[Piso 21, Manuel Turizo]</td>\n",
       "      <td>74</td>\n",
       "      <td>0.788</td>\n",
       "      <td>0.0753</td>\n",
       "      <td>170.019</td>\n",
       "      <td>0.0785</td>\n",
       "      <td>0.0482</td>\n",
       "      <td>0.000000</td>\n",
       "      <td>4</td>\n",
       "      <td>0.681</td>\n",
       "      <td>1</td>\n",
       "      <td>220117</td>\n",
       "      <td>-4.323</td>\n",
       "      <td>0.839</td>\n",
       "      <td>1</td>\n",
       "      <td>1216075058</td>\n",
       "      <td>Piso 21 - Déjala Que Vuelva (feat. Manuel Turi...</td>\n",
       "    </tr>\n",
       "    <tr>\n",
       "      <th>4</th>\n",
       "      <td>spotify:track:2ijef6ni2amuunRoKTlgww</td>\n",
       "      <td>Sin Pijama</td>\n",
       "      <td>[Becky G, Natti Natasha]</td>\n",
       "      <td>90</td>\n",
       "      <td>0.745</td>\n",
       "      <td>0.1040</td>\n",
       "      <td>94.014</td>\n",
       "      <td>0.0464</td>\n",
       "      <td>0.3540</td>\n",
       "      <td>0.000029</td>\n",
       "      <td>4</td>\n",
       "      <td>0.791</td>\n",
       "      <td>11</td>\n",
       "      <td>188560</td>\n",
       "      <td>-3.695</td>\n",
       "      <td>0.820</td>\n",
       "      <td>0</td>\n",
       "      <td>1071141995</td>\n",
       "      <td>Becky G Natti Natasha - Sin Pijama (Video Ofic...</td>\n",
       "    </tr>\n",
       "  </tbody>\n",
       "</table>\n",
       "</div>"
      ],
      "text/plain": [
       "                                song_id  \\\n",
       "0  spotify:track:5ygDXis42ncn6kYG14lEVG   \n",
       "1  spotify:track:7fa9MBXhVfQ8P8Df9OEbD8   \n",
       "2  spotify:track:6De0lHrwBfPfrhorm9q1Xl   \n",
       "3  spotify:track:1j6xOGusnyXq3l6IryKF3G   \n",
       "4  spotify:track:2ijef6ni2amuunRoKTlgww   \n",
       "\n",
       "                                song_title                    artist  \\\n",
       "0                               Baby Shark                [Pinkfong]   \n",
       "1           Girls Like You (feat. Cardi B)       [Maroon 5, Cardi B]   \n",
       "2                                Me Rehúso             [Danny Ocean]   \n",
       "3  Déjala Que Vuelva (feat. Manuel Turizo)  [Piso 21, Manuel Turizo]   \n",
       "4                               Sin Pijama  [Becky G, Natti Natasha]   \n",
       "\n",
       "   popularity  energy  liveness    tempo  speechiness  acousticness  \\\n",
       "0          77   0.840    0.3410  115.062       0.2270        0.2450   \n",
       "1          86   0.541    0.1300  124.959       0.0505        0.5680   \n",
       "2          83   0.804    0.0494  104.823       0.0677        0.0231   \n",
       "3          74   0.788    0.0753  170.019       0.0785        0.0482   \n",
       "4          90   0.745    0.1040   94.014       0.0464        0.3540   \n",
       "\n",
       "   instrumentalness  time_signature  danceability  key  duration  loudness  \\\n",
       "0          0.000000               4         0.825    7     96333    -3.651   \n",
       "1          0.000000               4         0.851    0    235545    -6.825   \n",
       "2          0.000000               4         0.744    1    205715    -6.327   \n",
       "3          0.000000               4         0.681    1    220117    -4.323   \n",
       "4          0.000029               4         0.791   11    188560    -3.695   \n",
       "\n",
       "   valence  mode  youtube_view_count  \\\n",
       "0    0.520     1          1956582159   \n",
       "1    0.448     1          1300452389   \n",
       "2    0.426     1          1229501096   \n",
       "3    0.839     1          1216075058   \n",
       "4    0.820     0          1071141995   \n",
       "\n",
       "                                 youtube_video_title  \n",
       "0  Baby Shark Dance | Sing and Dance! | Animal So...  \n",
       "1              Maroon 5 - Girls Like You ft. Cardi B  \n",
       "2          Danny Ocean -  Me Rehúso (Official Audio)  \n",
       "3  Piso 21 - Déjala Que Vuelva (feat. Manuel Turi...  \n",
       "4  Becky G Natti Natasha - Sin Pijama (Video Ofic...  "
      ]
     },
     "execution_count": 192,
     "metadata": {},
     "output_type": "execute_result"
    }
   ],
   "source": [
    "# Read the data from the file\n",
    "data = pd.read_csv('Data/data_500_entries_youtube.csv')\n",
    "print(\"Number of entries in original data: \" + str(len(data.index)))\n",
    "data.head()"
   ]
  },
  {
   "cell_type": "code",
   "execution_count": 193,
   "metadata": {},
   "outputs": [
    {
     "name": "stdout",
     "output_type": "stream",
     "text": [
      "Number of popular examples after thresholding :  55\n",
      "Number of not popular examples after thresholding :  515\n"
     ]
    }
   ],
   "source": [
    "from project_modules import *\n",
    "\n",
    "#final_data = label_data_combined(data, 90, 1000000000)\n",
    "final_data = label_data(data, 89)"
   ]
  },
  {
   "cell_type": "code",
   "execution_count": 194,
   "metadata": {},
   "outputs": [],
   "source": [
    "# Drop unnecessary columns from original data - also some legacy support for a different data format\n",
    "if 'song_id' in data.columns:\n",
    "    final_data.drop(['song_id', 'song_title', 'artist', 'popularity', 'youtube_view_count', 'youtube_video_title'], 1, inplace=True)\n",
    "else:\n",
    "    final_data.drop(['song_title', 'artist', 'popularity'], 1, inplace=True) "
   ]
  },
  {
   "cell_type": "code",
   "execution_count": 195,
   "metadata": {},
   "outputs": [
    {
     "name": "stdout",
     "output_type": "stream",
     "text": [
      "Number of entries in actual data: 570\n",
      "Number of entries in label data: 570\n"
     ]
    },
    {
     "data": {
      "text/html": [
       "<div>\n",
       "<style scoped>\n",
       "    .dataframe tbody tr th:only-of-type {\n",
       "        vertical-align: middle;\n",
       "    }\n",
       "\n",
       "    .dataframe tbody tr th {\n",
       "        vertical-align: top;\n",
       "    }\n",
       "\n",
       "    .dataframe thead th {\n",
       "        text-align: right;\n",
       "    }\n",
       "</style>\n",
       "<table border=\"1\" class=\"dataframe\">\n",
       "  <thead>\n",
       "    <tr style=\"text-align: right;\">\n",
       "      <th></th>\n",
       "      <th>energy</th>\n",
       "      <th>liveness</th>\n",
       "      <th>tempo</th>\n",
       "      <th>speechiness</th>\n",
       "      <th>acousticness</th>\n",
       "      <th>instrumentalness</th>\n",
       "      <th>time_signature</th>\n",
       "      <th>danceability</th>\n",
       "      <th>key</th>\n",
       "      <th>duration</th>\n",
       "      <th>loudness</th>\n",
       "      <th>valence</th>\n",
       "      <th>mode</th>\n",
       "    </tr>\n",
       "  </thead>\n",
       "  <tbody>\n",
       "    <tr>\n",
       "      <th>0</th>\n",
       "      <td>0.840</td>\n",
       "      <td>0.3410</td>\n",
       "      <td>115.062</td>\n",
       "      <td>0.2270</td>\n",
       "      <td>0.2450</td>\n",
       "      <td>0.000000</td>\n",
       "      <td>4</td>\n",
       "      <td>0.825</td>\n",
       "      <td>7</td>\n",
       "      <td>96333</td>\n",
       "      <td>-3.651</td>\n",
       "      <td>0.520</td>\n",
       "      <td>1</td>\n",
       "    </tr>\n",
       "    <tr>\n",
       "      <th>1</th>\n",
       "      <td>0.541</td>\n",
       "      <td>0.1300</td>\n",
       "      <td>124.959</td>\n",
       "      <td>0.0505</td>\n",
       "      <td>0.5680</td>\n",
       "      <td>0.000000</td>\n",
       "      <td>4</td>\n",
       "      <td>0.851</td>\n",
       "      <td>0</td>\n",
       "      <td>235545</td>\n",
       "      <td>-6.825</td>\n",
       "      <td>0.448</td>\n",
       "      <td>1</td>\n",
       "    </tr>\n",
       "    <tr>\n",
       "      <th>2</th>\n",
       "      <td>0.804</td>\n",
       "      <td>0.0494</td>\n",
       "      <td>104.823</td>\n",
       "      <td>0.0677</td>\n",
       "      <td>0.0231</td>\n",
       "      <td>0.000000</td>\n",
       "      <td>4</td>\n",
       "      <td>0.744</td>\n",
       "      <td>1</td>\n",
       "      <td>205715</td>\n",
       "      <td>-6.327</td>\n",
       "      <td>0.426</td>\n",
       "      <td>1</td>\n",
       "    </tr>\n",
       "    <tr>\n",
       "      <th>3</th>\n",
       "      <td>0.788</td>\n",
       "      <td>0.0753</td>\n",
       "      <td>170.019</td>\n",
       "      <td>0.0785</td>\n",
       "      <td>0.0482</td>\n",
       "      <td>0.000000</td>\n",
       "      <td>4</td>\n",
       "      <td>0.681</td>\n",
       "      <td>1</td>\n",
       "      <td>220117</td>\n",
       "      <td>-4.323</td>\n",
       "      <td>0.839</td>\n",
       "      <td>1</td>\n",
       "    </tr>\n",
       "    <tr>\n",
       "      <th>4</th>\n",
       "      <td>0.745</td>\n",
       "      <td>0.1040</td>\n",
       "      <td>94.014</td>\n",
       "      <td>0.0464</td>\n",
       "      <td>0.3540</td>\n",
       "      <td>0.000029</td>\n",
       "      <td>4</td>\n",
       "      <td>0.791</td>\n",
       "      <td>11</td>\n",
       "      <td>188560</td>\n",
       "      <td>-3.695</td>\n",
       "      <td>0.820</td>\n",
       "      <td>0</td>\n",
       "    </tr>\n",
       "  </tbody>\n",
       "</table>\n",
       "</div>"
      ],
      "text/plain": [
       "   energy  liveness    tempo  speechiness  acousticness  instrumentalness  \\\n",
       "0   0.840    0.3410  115.062       0.2270        0.2450          0.000000   \n",
       "1   0.541    0.1300  124.959       0.0505        0.5680          0.000000   \n",
       "2   0.804    0.0494  104.823       0.0677        0.0231          0.000000   \n",
       "3   0.788    0.0753  170.019       0.0785        0.0482          0.000000   \n",
       "4   0.745    0.1040   94.014       0.0464        0.3540          0.000029   \n",
       "\n",
       "   time_signature  danceability  key  duration  loudness  valence  mode  \n",
       "0               4         0.825    7     96333    -3.651    0.520     1  \n",
       "1               4         0.851    0    235545    -6.825    0.448     1  \n",
       "2               4         0.744    1    205715    -6.327    0.426     1  \n",
       "3               4         0.681    1    220117    -4.323    0.839     1  \n",
       "4               4         0.791   11    188560    -3.695    0.820     0  "
      ]
     },
     "execution_count": 195,
     "metadata": {},
     "output_type": "execute_result"
    }
   ],
   "source": [
    "# X will be our examples and y will be our labels\n",
    "X = final_data.drop('is_popular', axis=1)\n",
    "y = final_data['is_popular']\n",
    "# Sanity checks\n",
    "print(\"Number of entries in actual data: \" + str(len(X.index)))\n",
    "print(\"Number of entries in label data: \" + str(len(y.index)))\n",
    "X.head()"
   ]
  },
  {
   "cell_type": "code",
   "execution_count": 196,
   "metadata": {},
   "outputs": [
    {
     "name": "stderr",
     "output_type": "stream",
     "text": [
      "C:\\Users\\Rares\\Anaconda3\\lib\\site-packages\\sklearn\\preprocessing\\data.py:625: DataConversionWarning: Data with input dtype int64, float64 were all converted to float64 by StandardScaler.\n",
      "  return self.partial_fit(X, y)\n",
      "C:\\Users\\Rares\\Anaconda3\\lib\\site-packages\\ipykernel_launcher.py:13: ResourceWarning: unclosed file <_io.BufferedWriter name='scaler.pkl'>\n",
      "  del sys.path[0]\n",
      "C:\\Users\\Rares\\Anaconda3\\lib\\site-packages\\ipykernel_launcher.py:26: DataConversionWarning: Data with input dtype int64, float64 were all converted to float64 by StandardScaler.\n"
     ]
    },
    {
     "data": {
      "text/plain": [
       "array([ 6.23283102e-18, -8.10268032e-17, -4.42531002e-16,  2.49313241e-17,\n",
       "        1.12190958e-16, -1.24656620e-17, -6.60680088e-16,  8.57014265e-17,\n",
       "        1.09074543e-16, -1.43355113e-16,  1.37122282e-16, -3.05408720e-16,\n",
       "        4.67462326e-17])"
      ]
     },
     "execution_count": 196,
     "metadata": {},
     "output_type": "execute_result"
    }
   ],
   "source": [
    "from sklearn import preprocessing\n",
    "import pickle\n",
    "COLUMNS_TO_SCALE = [\"energy\", \"liveness\", \"tempo\", \n",
    "                    \"speechiness\", \"acousticness\", \"instrumentalness\", \n",
    "                    \"time_signature\", \"danceability\", \"key\", \n",
    "                    \"duration\", \"loudness\", \"valence\", \"mode\"]\n",
    "#COLUMNS_TO_SCALE = [\"energy\", \"tempo\",\"loudness\", \"valence\"]\n",
    "\n",
    "# Keep data in a temp variable for testing\n",
    "#scaled_data = scale_data_standardize(X, COLUMNS_TO_SCALE)\n",
    "scaler = preprocessing.StandardScaler()\n",
    "scaler.fit(X)\n",
    "pickle.dump(scaler, open(\"scaler.pkl\",\"wb\"))\n",
    "# Plots to see the difference before/after scaling\n",
    "# plt.subplot(1,2,1)\n",
    "# plt.plot(data['duration'])\n",
    "# plt.title(\"Duration before scaling\")\n",
    "\n",
    "# plt.subplot(1,2,2)\n",
    "# plt.plot(scaled_data['duration'])\n",
    "# plt.title(\"Duration after scaling\")\n",
    "# plt.tight_layout()\n",
    "# plt.show()\n",
    "\n",
    "# Copy data back\n",
    "X = scaler.transform(X)\n",
    "\n",
    "#Just to check that everything is fine\n",
    "X.mean(axis=0)"
   ]
  },
  {
   "cell_type": "code",
   "execution_count": 197,
   "metadata": {},
   "outputs": [],
   "source": [
    "from sklearn.neural_network import MLPClassifier\n",
    "from imblearn.pipeline import make_pipeline as make_pipeline_imb\n",
    "from imblearn.over_sampling import SMOTE\n",
    "from sklearn import svm\n",
    "from sklearn.neighbors import KNeighborsClassifier\n",
    "from sklearn.linear_model import LogisticRegression"
   ]
  },
  {
   "cell_type": "code",
   "execution_count": 198,
   "metadata": {},
   "outputs": [
    {
     "name": "stdout",
     "output_type": "stream",
     "text": [
      "Pipeline(memory=None,\n",
      "     steps=[('smote', SMOTE(k_neighbors=5, kind='deprecated', m_neighbors='deprecated', n_jobs=1,\n",
      "   out_step='deprecated', random_state=4, ratio=None,\n",
      "   sampling_strategy='auto', svm_estimator='deprecated')), ('svc', SVC(C=1.0, cache_size=200, class_weight=None, coef0=0.0,\n",
      "  decision_function_shape='ovr', degree=3, gamma='scale', kernel='rbf',\n",
      "  max_iter=-1, probability=True, random_state=3, shrinking=True, tol=0.001,\n",
      "  verbose=False))])\n"
     ]
    }
   ],
   "source": [
    "#model = make_pipeline_imb(SMOTE(random_state=4), MLPClassifier(activation = 'relu', solver='lbfgs', alpha=1, hidden_layer_sizes=(5, 2), random_state=3))\n",
    "#model = svm.SVC(probability=True, gamma='scale', class_weight='balanced')\n",
    "model = make_pipeline_imb(SMOTE(random_state=4), svm.SVC(probability=True, gamma='scale', random_state=3))\n",
    "#model = LogisticRegression(solver='lbfgs', class_weight='balanced')\n",
    "#model = KNeighborsClassifier(n_neighbors = 17)\n",
    "#model = make_pipeline_imb(SMOTE(random_state=4), KNeighborsClassifier(n_neighbors = 17))\n",
    "print(model)"
   ]
  },
  {
   "cell_type": "code",
   "execution_count": null,
   "metadata": {},
   "outputs": [],
   "source": []
  },
  {
   "cell_type": "code",
   "execution_count": 199,
   "metadata": {},
   "outputs": [
    {
     "data": {
      "text/plain": [
       "Pipeline(memory=None,\n",
       "     steps=[('smote', SMOTE(k_neighbors=5, kind='deprecated', m_neighbors='deprecated', n_jobs=1,\n",
       "   out_step='deprecated', random_state=4, ratio=None,\n",
       "   sampling_strategy='auto', svm_estimator='deprecated')), ('svc', SVC(C=1.0, cache_size=200, class_weight=None, coef0=0.0,\n",
       "  decision_function_shape='ovr', degree=3, gamma='scale', kernel='rbf',\n",
       "  max_iter=-1, probability=True, random_state=3, shrinking=True, tol=0.001,\n",
       "  verbose=False))])"
      ]
     },
     "execution_count": 199,
     "metadata": {},
     "output_type": "execute_result"
    }
   ],
   "source": [
    "\n",
    "model.fit(X,y)\n"
   ]
  },
  {
   "cell_type": "code",
   "execution_count": 200,
   "metadata": {},
   "outputs": [
    {
     "name": "stderr",
     "output_type": "stream",
     "text": [
      "C:\\Users\\Rares\\Anaconda3\\lib\\site-packages\\ipykernel_launcher.py:2: ResourceWarning: unclosed file <_io.BufferedWriter name='model.pkl'>\n",
      "  \n"
     ]
    }
   ],
   "source": [
    "\n",
    "pickle.dump(model, open(\"model.pkl\", \"wb\"))"
   ]
  },
  {
   "cell_type": "code",
   "execution_count": 201,
   "metadata": {},
   "outputs": [],
   "source": [
    "import spotipy\n",
    "from spotipy.oauth2 import SpotifyClientCredentials\n",
    "import config"
   ]
  },
  {
   "cell_type": "code",
   "execution_count": 190,
   "metadata": {},
   "outputs": [],
   "source": [
    "client_credentials_manager = SpotifyClientCredentials(config.client_id, config.client_secret)\n",
    "sp = spotipy.Spotify(client_credentials_manager=client_credentials_manager)"
   ]
  },
  {
   "cell_type": "code",
   "execution_count": 167,
   "metadata": {},
   "outputs": [],
   "source": [
    "test_song = sp.audio_features([\"spotify:track:4kV4N9D1iKVxx1KLvtTpjS\"])"
   ]
  },
  {
   "cell_type": "code",
   "execution_count": 168,
   "metadata": {},
   "outputs": [
    {
     "name": "stdout",
     "output_type": "stream",
     "text": [
      "[{'danceability': 0.726, 'energy': 0.554, 'key': 5, 'loudness': -5.29, 'mode': 0, 'speechiness': 0.0917, 'acousticness': 0.0421, 'instrumentalness': 0, 'liveness': 0.106, 'valence': 0.335, 'tempo': 169.999, 'type': 'audio_features', 'id': '4kV4N9D1iKVxx1KLvtTpjS', 'uri': 'spotify:track:4kV4N9D1iKVxx1KLvtTpjS', 'track_href': 'https://api.spotify.com/v1/tracks/4kV4N9D1iKVxx1KLvtTpjS', 'analysis_url': 'https://api.spotify.com/v1/audio-analysis/4kV4N9D1iKVxx1KLvtTpjS', 'duration_ms': 190440, 'time_signature': 4}]\n"
     ]
    }
   ],
   "source": [
    "print(test_song)"
   ]
  },
  {
   "cell_type": "code",
   "execution_count": 170,
   "metadata": {},
   "outputs": [],
   "source": [
    "test_song1 = []\n",
    "for i in range(0, 1, 1):\n",
    "    test_song1.append([test_song[i]['energy'], test_song[i][\"liveness\"], test_song[i][\"tempo\"], \n",
    "                    test_song[i][\"speechiness\"], test_song[i][\"acousticness\"], test_song[i][\"instrumentalness\"], \n",
    "                    test_song[i][\"time_signature\"], test_song[i][\"danceability\"], test_song[i][\"key\"], \n",
    "                    test_song[i][\"duration_ms\"], test_song[i][\"loudness\"], test_song[i][\"valence\"], test_song[i][\"mode\"]])\n",
    "test_df = pd.DataFrame(test_song1)"
   ]
  },
  {
   "cell_type": "code",
   "execution_count": 171,
   "metadata": {},
   "outputs": [
    {
     "data": {
      "text/html": [
       "<div>\n",
       "<style scoped>\n",
       "    .dataframe tbody tr th:only-of-type {\n",
       "        vertical-align: middle;\n",
       "    }\n",
       "\n",
       "    .dataframe tbody tr th {\n",
       "        vertical-align: top;\n",
       "    }\n",
       "\n",
       "    .dataframe thead th {\n",
       "        text-align: right;\n",
       "    }\n",
       "</style>\n",
       "<table border=\"1\" class=\"dataframe\">\n",
       "  <thead>\n",
       "    <tr style=\"text-align: right;\">\n",
       "      <th></th>\n",
       "      <th>0</th>\n",
       "      <th>1</th>\n",
       "      <th>2</th>\n",
       "      <th>3</th>\n",
       "      <th>4</th>\n",
       "      <th>5</th>\n",
       "      <th>6</th>\n",
       "      <th>7</th>\n",
       "      <th>8</th>\n",
       "      <th>9</th>\n",
       "      <th>10</th>\n",
       "      <th>11</th>\n",
       "      <th>12</th>\n",
       "    </tr>\n",
       "  </thead>\n",
       "  <tbody>\n",
       "    <tr>\n",
       "      <th>0</th>\n",
       "      <td>0.554</td>\n",
       "      <td>0.106</td>\n",
       "      <td>169.999</td>\n",
       "      <td>0.0917</td>\n",
       "      <td>0.0421</td>\n",
       "      <td>0</td>\n",
       "      <td>4</td>\n",
       "      <td>0.726</td>\n",
       "      <td>5</td>\n",
       "      <td>190440</td>\n",
       "      <td>-5.29</td>\n",
       "      <td>0.335</td>\n",
       "      <td>0</td>\n",
       "    </tr>\n",
       "  </tbody>\n",
       "</table>\n",
       "</div>"
      ],
      "text/plain": [
       "      0      1        2       3       4   5   6      7   8       9     10  \\\n",
       "0  0.554  0.106  169.999  0.0917  0.0421   0   4  0.726   5  190440 -5.29   \n",
       "\n",
       "      11  12  \n",
       "0  0.335   0  "
      ]
     },
     "execution_count": 171,
     "metadata": {},
     "output_type": "execute_result"
    }
   ],
   "source": [
    "test_df.head(10)"
   ]
  },
  {
   "cell_type": "code",
   "execution_count": 174,
   "metadata": {},
   "outputs": [
    {
     "name": "stdout",
     "output_type": "stream",
     "text": [
      "[[0.554, 0.106, 169.999, 0.0917, 0.0421, 0, 4, 0.726, 5, 190440, -5.29, 0.335, 0]]\n",
      "[[-0.64445038 -0.46269236  1.60476444 -0.36335995 -0.91201115 -0.14464198\n",
      "   0.06047355  0.18198644 -0.0622138  -0.31112133  0.35313902 -0.8681182\n",
      "  -1.16003406]]\n"
     ]
    },
    {
     "name": "stderr",
     "output_type": "stream",
     "text": [
      "C:\\Users\\Rares\\Anaconda3\\lib\\site-packages\\ipykernel_launcher.py:4: DataConversionWarning: Data with input dtype int64, float64 were all converted to float64 by StandardScaler.\n",
      "  after removing the cwd from sys.path.\n"
     ]
    }
   ],
   "source": [
    "print(test_song1)\n",
    "#test_df.head()\n",
    "#scaled_data = scale_data_normalize(test_df, [0,1,2,3,4,5,6,7,8,9,10,11,12])\n",
    "data_np = scaler.transform(test_df)\n",
    "print(data_np)"
   ]
  },
  {
   "cell_type": "code",
   "execution_count": 178,
   "metadata": {},
   "outputs": [
    {
     "name": "stdout",
     "output_type": "stream",
     "text": [
      "[1]\n",
      "\n",
      "\n",
      "[[0.64331629 0.35668371]]\n",
      "\n",
      "\n",
      "1\n",
      "[0.64331629 0.35668371]\n"
     ]
    }
   ],
   "source": [
    "predicted_labels = model.predict(data_np)\n",
    "print(predicted_labels)\n",
    "print()\n",
    "print()\n",
    "predicted_probabilities = model.predict_proba(data_np)\n",
    "print(predicted_probabilities)\n",
    "print()\n",
    "print()\n",
    "for i in range(0, 1, 1):\n",
    "    #print(\"Predicted label: \", model.predict(data_np))\n",
    "    print(predicted_labels[i])\n",
    "    print(predicted_probabilities[i])\n",
    "    #print(\"Class 0 probability: \",model.predict_proba(data_np[i])[0][0],\" Class 1 probability: \",model.predict_proba(data_np[i])[0][1])"
   ]
  },
  {
   "cell_type": "code",
   "execution_count": null,
   "metadata": {},
   "outputs": [],
   "source": []
  },
  {
   "cell_type": "code",
   "execution_count": null,
   "metadata": {},
   "outputs": [],
   "source": []
  },
  {
   "cell_type": "code",
   "execution_count": null,
   "metadata": {},
   "outputs": [],
   "source": []
  }
 ],
 "metadata": {
  "kernelspec": {
   "display_name": "Python 3",
   "language": "python",
   "name": "python3"
  },
  "language_info": {
   "codemirror_mode": {
    "name": "ipython",
    "version": 3
   },
   "file_extension": ".py",
   "mimetype": "text/x-python",
   "name": "python",
   "nbconvert_exporter": "python",
   "pygments_lexer": "ipython3",
   "version": "3.7.1"
  }
 },
 "nbformat": 4,
 "nbformat_minor": 2
}
